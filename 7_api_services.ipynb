{
 "cells": [
  {
   "cell_type": "markdown",
   "id": "76060146-73f6-42ce-9718-74435a6d5d66",
   "metadata": {},
   "source": [
    "# Mastering Applied Skills in Management, Analytics and Entrepreneurship"
   ]
  },
  {
   "cell_type": "markdown",
   "id": "155e80ba-75f2-480e-90a7-3553d7d3f388",
   "metadata": {},
   "source": [
    "## DATA COLLECTION TECHNIQUES\n",
    "## Part VII. Introduction to API - services"
   ]
  },
  {
   "cell_type": "markdown",
   "id": "82206471-bb70-479b-9dfe-8363aa69a1d3",
   "metadata": {},
   "source": [
    "### 1. Libraries"
   ]
  },
  {
   "cell_type": "code",
   "execution_count": null,
   "id": "f12ce8a9-8c78-4fd2-9317-680800ddc8f0",
   "metadata": {
    "tags": []
   },
   "outputs": [],
   "source": [
    "import json\n",
    "import base64\n",
    "import requests\n",
    "import matplotlib.pyplot as plt\n",
    "from PIL import Image"
   ]
  },
  {
   "cell_type": "code",
   "execution_count": null,
   "id": "da5a58ec-a170-4ff6-9e27-225f2bb7ec95",
   "metadata": {
    "tags": []
   },
   "outputs": [],
   "source": [
    "def access_data(file_path):\n",
    "    '''\n",
    "    Reads credentials from file.\n",
    "\n",
    "    '''\n",
    "    with open(file_path) as file:\n",
    "        access_data = json.load(file)\n",
    "    return access_data\n",
    "\n",
    "\n",
    "def encode_file(file_path):\n",
    "    '''\n",
    "    Encode a file to a format for API use.\n",
    "    See Yandex OCR manual here:\n",
    "    https://yandex.cloud/en-ru/docs/vision/operations/ocr/text-detection-pdf\n",
    "\n",
    "    '''\n",
    "    with open(file_path, 'rb') as file:\n",
    "        file_content = file.read()\n",
    "    return base64.b64encode(file_content).decode('utf-8')"
   ]
  },
  {
   "cell_type": "markdown",
   "id": "274d07fb-5e30-4a95-96dd-439b85f0782b",
   "metadata": {},
   "source": [
    "### 2. Yandex OCR example"
   ]
  },
  {
   "cell_type": "markdown",
   "id": "2d76c341-7272-4195-8619-bbff36a3f296",
   "metadata": {},
   "source": [
    "Yandex OCR [documentation](https://yandex.cloud/en-ru/docs/vision/quickstart)."
   ]
  },
  {
   "cell_type": "code",
   "execution_count": null,
   "id": "2421f0fa-c9df-4893-9260-4d0cbd983323",
   "metadata": {
    "tags": []
   },
   "outputs": [],
   "source": [
    "creds = access_data(file_path='data/access_ya_api.json')\n",
    "print(creds.keys())"
   ]
  },
  {
   "cell_type": "code",
   "execution_count": null,
   "id": "05fe3f4f-7f2b-4dd5-8f14-314ddecf6ad5",
   "metadata": {
    "tags": []
   },
   "outputs": [],
   "source": [
    "file_path = 'data/example_ocr..jpg'\n",
    "print(file_path)"
   ]
  },
  {
   "cell_type": "code",
   "execution_count": null,
   "id": "28af86d7-9ccd-413a-b4a1-2ebd22255fcd",
   "metadata": {
    "tags": []
   },
   "outputs": [],
   "source": [
    "!ls -la $file_path"
   ]
  },
  {
   "cell_type": "code",
   "execution_count": null,
   "id": "2289b8a6-d2df-44bc-aec9-37a80be42ac4",
   "metadata": {
    "tags": []
   },
   "outputs": [],
   "source": [
    "img = Image.open(file_path)\n",
    "plt.imshow(img)\n",
    "plt.show()"
   ]
  },
  {
   "cell_type": "code",
   "execution_count": null,
   "id": "5e412cb0-ec8b-4c8d-9671-4e5b2b7767ef",
   "metadata": {
    "tags": []
   },
   "outputs": [],
   "source": [
    "content = encode_file(file_path)\n",
    "print('encoded to', len(content), 'symbols')"
   ]
  },
  {
   "cell_type": "code",
   "execution_count": null,
   "id": "4124b988-9cbe-4fb9-bb3c-5ed3bb480c55",
   "metadata": {
    "tags": []
   },
   "outputs": [],
   "source": [
    "type(content)"
   ]
  },
  {
   "cell_type": "code",
   "execution_count": null,
   "id": "32b3f4ea-b6b2-45ca-a7a8-ebf5c7436ecd",
   "metadata": {
    "tags": []
   },
   "outputs": [],
   "source": [
    "data = {\n",
    "    'mimeType': 'JPEG',\n",
    "    'languageCodes': ['en'],\n",
    "    'content': content\n",
    "}"
   ]
  },
  {
   "cell_type": "code",
   "execution_count": null,
   "id": "bd3b5d34-f3b5-4c07-b786-c7835a09c6ff",
   "metadata": {
    "tags": []
   },
   "outputs": [],
   "source": [
    "headers = {\n",
    "    'Content-Type': 'application/json',\n",
    "    'Authorization': f'Api-Key {creds[\"secret_key\"]}',\n",
    "    'x-folder-id': creds['folder_id'],\n",
    "    'x-data-logging-enabled': 'true'\n",
    "}"
   ]
  },
  {
   "cell_type": "code",
   "execution_count": null,
   "id": "ddff7dfb-94cd-4c86-844a-ba928740db74",
   "metadata": {
    "tags": []
   },
   "outputs": [],
   "source": [
    "type(data), type(headers)"
   ]
  },
  {
   "cell_type": "code",
   "execution_count": null,
   "id": "b6e67c5b-836e-400a-8ad6-0c86d8ee5450",
   "metadata": {
    "tags": []
   },
   "outputs": [],
   "source": [
    "URL_OCR_SERVICE = 'https://ocr.api.cloud.yandex.net/ocr/v1/recognizeText'\n",
    "r = requests.post(\n",
    "    url=URL_OCR_SERVICE,\n",
    "    headers=headers,\n",
    "    data=json.dumps(data)\n",
    ")"
   ]
  },
  {
   "cell_type": "code",
   "execution_count": null,
   "id": "5cb032e5-6d39-4d14-8d2f-191ba4d47bfb",
   "metadata": {
    "tags": []
   },
   "outputs": [],
   "source": [
    "type(r)"
   ]
  },
  {
   "cell_type": "code",
   "execution_count": null,
   "id": "32ee6f83-83cc-43e5-aedd-aab9679c18e1",
   "metadata": {
    "tags": []
   },
   "outputs": [],
   "source": [
    "r.json()"
   ]
  },
  {
   "cell_type": "code",
   "execution_count": null,
   "id": "95b82dc4-3e54-4368-b21b-c0e7c60065c3",
   "metadata": {
    "tags": []
   },
   "outputs": [],
   "source": [
    "r.json().keys()"
   ]
  },
  {
   "cell_type": "code",
   "execution_count": null,
   "id": "c4f6677b-cd6e-4090-b7a5-6191c381690d",
   "metadata": {
    "tags": []
   },
   "outputs": [],
   "source": [
    "r.json()['result'].keys()"
   ]
  },
  {
   "cell_type": "code",
   "execution_count": null,
   "id": "537f2ca7-027d-4aa1-a6af-9734deecb1c1",
   "metadata": {
    "tags": []
   },
   "outputs": [],
   "source": [
    "r.json()['result']['textAnnotation']"
   ]
  },
  {
   "cell_type": "code",
   "execution_count": null,
   "id": "b546952a-1a0c-4086-89e5-47221d59ec00",
   "metadata": {
    "tags": []
   },
   "outputs": [],
   "source": [
    "text = r.json()['result']['textAnnotation']['fullText']\n",
    "print(text)"
   ]
  },
  {
   "cell_type": "markdown",
   "id": "10405768-c563-4487-9f02-246745a15b5d",
   "metadata": {
    "tags": []
   },
   "source": [
    "### 3. Yandex Traslate API example"
   ]
  },
  {
   "cell_type": "markdown",
   "id": "bfb7e328-35b4-491c-a1e0-300dcbb16204",
   "metadata": {},
   "source": [
    "Yandex Translate [documentation](https://yandex.cloud/en-ru/docs/translate/quickstart)."
   ]
  },
  {
   "cell_type": "markdown",
   "id": "20b00b45-f8a8-4b84-a9e4-7965de382473",
   "metadata": {},
   "source": [
    "#### 3.1. Languages available"
   ]
  },
  {
   "cell_type": "code",
   "execution_count": null,
   "id": "569b73a8-ea64-4d65-850c-7b30e04ca9c3",
   "metadata": {
    "tags": []
   },
   "outputs": [],
   "source": [
    "data = {\n",
    "    'folderId': creds['folder_id']\n",
    "}"
   ]
  },
  {
   "cell_type": "code",
   "execution_count": null,
   "id": "b9c07db6-2593-40c2-9236-77b8ed695531",
   "metadata": {
    "tags": []
   },
   "outputs": [],
   "source": [
    "headers = {\n",
    "    'Content-Type': 'application/json',\n",
    "    'Authorization': f'Api-Key {creds[\"secret_key\"]}'\n",
    "}"
   ]
  },
  {
   "cell_type": "code",
   "execution_count": null,
   "id": "b80402aa-f979-4b6b-9d31-44bcbdbbc565",
   "metadata": {
    "tags": []
   },
   "outputs": [],
   "source": [
    "URL_LANGS = 'https://translate.api.cloud.yandex.net/translate/v2/languages'\n",
    "r = requests.post(\n",
    "    url=URL_LANGS,\n",
    "    headers=headers\n",
    ")"
   ]
  },
  {
   "cell_type": "code",
   "execution_count": null,
   "id": "3c9445de-679b-4225-86e1-143f0be0f472",
   "metadata": {
    "tags": []
   },
   "outputs": [],
   "source": [
    "r"
   ]
  },
  {
   "cell_type": "code",
   "execution_count": null,
   "id": "59f36bb6-468a-40e5-8589-e06da1d9ba32",
   "metadata": {
    "tags": []
   },
   "outputs": [],
   "source": [
    "r.json()"
   ]
  },
  {
   "cell_type": "markdown",
   "id": "84fe6301-a031-4dbb-9a65-5afd3c35ecd3",
   "metadata": {},
   "source": [
    "#### 3.2. Language detect"
   ]
  },
  {
   "cell_type": "code",
   "execution_count": null,
   "id": "b8e43308-cfb2-4804-bab4-cebb49586d0e",
   "metadata": {
    "tags": []
   },
   "outputs": [],
   "source": [
    "string = text[:100]\n",
    "print('string:', string)\n",
    "data = {\n",
    "    'text': string,\n",
    "    'folderId': creds['folder_id']\n",
    "}"
   ]
  },
  {
   "cell_type": "code",
   "execution_count": null,
   "id": "99867b81-bc05-499c-b230-f49385567fbe",
   "metadata": {
    "tags": []
   },
   "outputs": [],
   "source": [
    "URL_DET = 'https://translate.api.cloud.yandex.net/translate/v2/detect'\n",
    "r = requests.post(\n",
    "    url=URL_DET,\n",
    "    headers=headers,\n",
    "    json=data\n",
    ")"
   ]
  },
  {
   "cell_type": "code",
   "execution_count": null,
   "id": "1ccd0110-e546-4b31-ab05-c1a9f435ca18",
   "metadata": {
    "tags": []
   },
   "outputs": [],
   "source": [
    "r"
   ]
  },
  {
   "cell_type": "code",
   "execution_count": null,
   "id": "afeec898-3596-405a-8733-1d4c8645e600",
   "metadata": {
    "tags": []
   },
   "outputs": [],
   "source": [
    "r.json()"
   ]
  },
  {
   "cell_type": "markdown",
   "id": "74169d4b-7bf1-49c1-8c97-2a53265c8f06",
   "metadata": {},
   "source": [
    "#### 3.3. Translate"
   ]
  },
  {
   "cell_type": "code",
   "execution_count": null,
   "id": "99180309-5f5e-49b3-8299-97cf4b8f967b",
   "metadata": {
    "tags": []
   },
   "outputs": [],
   "source": [
    "target_language = 'ru'\n",
    "texts = [text]\n",
    "data = {\n",
    "    'targetLanguageCode': target_language,\n",
    "    'texts': texts,\n",
    "    'folderId': creds['folder_id']\n",
    "}"
   ]
  },
  {
   "cell_type": "code",
   "execution_count": null,
   "id": "9b8209fb-b7a0-4a20-b2c2-5731c701bd3d",
   "metadata": {
    "tags": []
   },
   "outputs": [],
   "source": [
    "headers = {\n",
    "    'Content-Type': 'application/json',\n",
    "    'Authorization': f'Api-Key {creds[\"secret_key\"]}'\n",
    "}"
   ]
  },
  {
   "cell_type": "code",
   "execution_count": null,
   "id": "90829002-46c1-4253-b29d-876b6be860f0",
   "metadata": {
    "tags": []
   },
   "outputs": [],
   "source": [
    "URL_TRANSLATE = 'https://translate.api.cloud.yandex.net/translate/v2/translate'\n",
    "r = requests.post(\n",
    "    url=URL_TRANSLATE,\n",
    "    headers=headers,\n",
    "    json=data  # NOTE: we may use `data=json.dumps(data)`\n",
    ")"
   ]
  },
  {
   "cell_type": "code",
   "execution_count": null,
   "id": "3781e538-bf46-4ddc-a0fb-8ce8e6a68368",
   "metadata": {
    "tags": []
   },
   "outputs": [],
   "source": [
    "r"
   ]
  },
  {
   "cell_type": "code",
   "execution_count": null,
   "id": "593bc215-df50-4eec-8367-a8f130f4378a",
   "metadata": {
    "tags": []
   },
   "outputs": [],
   "source": [
    "r.json()"
   ]
  },
  {
   "cell_type": "code",
   "execution_count": null,
   "id": "5bb1b777-4b92-43f4-9e33-16973ced9ef9",
   "metadata": {},
   "outputs": [],
   "source": [
    "for t in r.json()['translations']:\n",
    "    print('language detected:', t['detectedLanguageCode'])\n",
    "    print('translation result:', t['text'].replace('\\n', ' '))"
   ]
  },
  {
   "cell_type": "code",
   "execution_count": null,
   "id": "d889a6ec-d885-4065-843b-4b416a91259f",
   "metadata": {},
   "outputs": [],
   "source": []
  }
 ],
 "metadata": {
  "kernelspec": {
   "display_name": "Python 3 (ipykernel)",
   "language": "python",
   "name": "python3"
  },
  "language_info": {
   "codemirror_mode": {
    "name": "ipython",
    "version": 3
   },
   "file_extension": ".py",
   "mimetype": "text/x-python",
   "name": "python",
   "nbconvert_exporter": "python",
   "pygments_lexer": "ipython3",
   "version": "3.10.8"
  },
  "widgets": {
   "application/vnd.jupyter.widget-state+json": {
    "state": {},
    "version_major": 2,
    "version_minor": 0
   }
  }
 },
 "nbformat": 4,
 "nbformat_minor": 5
}
