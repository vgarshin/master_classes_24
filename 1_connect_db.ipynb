{
 "cells": [
  {
   "cell_type": "markdown",
   "metadata": {},
   "source": [
    "# Mastering Applied Skills in Management, Analytics and Entrepreneurship"
   ]
  },
  {
   "cell_type": "markdown",
   "metadata": {},
   "source": [
    "## DATA COLLECTION TECHNIQUES\n",
    "## Part I. Connect to remote database"
   ]
  },
  {
   "cell_type": "markdown",
   "metadata": {},
   "source": [
    "__NOTE:__ use this notebook with `Data Science environment`."
   ]
  },
  {
   "cell_type": "markdown",
   "metadata": {},
   "source": [
    "### 1. Connect to PostgreSQL database"
   ]
  },
  {
   "cell_type": "code",
   "execution_count": null,
   "metadata": {},
   "outputs": [],
   "source": [
    "import os\n",
    "import json\n",
    "import psycopg2"
   ]
  },
  {
   "cell_type": "markdown",
   "metadata": {},
   "source": [
    "[Psycopg](https://www.psycopg.org/docs/index.html) is already installed in the JupyterHub environment as a PostgreSQL database adapter for Python."
   ]
  },
  {
   "cell_type": "markdown",
   "metadata": {},
   "source": [
    "#### 1.1. Bad practice"
   ]
  },
  {
   "cell_type": "code",
   "execution_count": null,
   "metadata": {},
   "outputs": [],
   "source": [
    "# do not do like this!\n",
    "# it is not safe way\n",
    "# to store your credentials\n",
    "POSTGRESQL_HOST = 'myhost'\n",
    "DBNAME = 'mydbase'\n",
    "USERNAME = 'mynamr'\n",
    "PASSWORD = 'youshallnotpass'"
   ]
  },
  {
   "cell_type": "markdown",
   "metadata": {},
   "source": [
    "#### 1.2. Good practice"
   ]
  },
  {
   "cell_type": "markdown",
   "metadata": {},
   "source": [
    "The best solution __for production__ is to use environment variables. About [environment variables](https://help.ubuntu.com/community/EnvironmentVariables) and [how to use it](https://www.twilio.com/blog/environment-variables-python)."
   ]
  },
  {
   "cell_type": "code",
   "execution_count": null,
   "metadata": {
    "tags": []
   },
   "outputs": [],
   "source": [
    "# list all environmental variables\n",
    "os.environ"
   ]
  },
  {
   "cell_type": "code",
   "execution_count": null,
   "metadata": {},
   "outputs": [],
   "source": [
    "# good practice is to name environment variables\n",
    "# with use of CAPITAL letters\n",
    "os.environ['POSTGRESQL_HOST'] = 'your_host'\n",
    "os.environ['DBNAME'] = 'your_dbname'\n",
    "os.environ['USERNAME'] = 'your_username'\n",
    "os.environ['PASSWORD'] = 'your_password'"
   ]
  },
  {
   "cell_type": "code",
   "execution_count": null,
   "metadata": {
    "tags": []
   },
   "outputs": [],
   "source": [
    "os.environ['POSTGRESQL_HOST']"
   ]
  },
  {
   "cell_type": "markdown",
   "metadata": {
    "tags": []
   },
   "source": [
    "...but again the code will contain sensitive credentials data, so let's use a small trick."
   ]
  },
  {
   "cell_type": "markdown",
   "metadata": {},
   "source": [
    "#### 1.3. A few words about dictionaries ans JSON"
   ]
  },
  {
   "cell_type": "markdown",
   "metadata": {},
   "source": [
    "[JSON](https://docs.python.org/3/library/json.html) is cool!"
   ]
  },
  {
   "cell_type": "code",
   "execution_count": null,
   "metadata": {
    "tags": []
   },
   "outputs": [],
   "source": [
    "{'key': 'value', 'one_more_key': 'and the other value'}"
   ]
  },
  {
   "cell_type": "code",
   "execution_count": null,
   "metadata": {
    "tags": []
   },
   "outputs": [],
   "source": [
    "d = {'key': 'value', 'one_more_key': 'and the other value'}\n",
    "type(d)"
   ]
  },
  {
   "cell_type": "code",
   "execution_count": null,
   "metadata": {
    "tags": []
   },
   "outputs": [],
   "source": [
    "d['key']"
   ]
  },
  {
   "cell_type": "code",
   "execution_count": null,
   "metadata": {
    "tags": []
   },
   "outputs": [],
   "source": [
    "json.dumps(d)"
   ]
  },
  {
   "cell_type": "code",
   "execution_count": null,
   "metadata": {
    "tags": []
   },
   "outputs": [],
   "source": [
    "with open('data/file_with_d.json', 'w') as file:\n",
    "    json.dump(d, file)"
   ]
  },
  {
   "cell_type": "code",
   "execution_count": null,
   "metadata": {
    "tags": []
   },
   "outputs": [],
   "source": [
    "with open('data/file_with_d.json') as file:\n",
    "    new_d = json.load(file)"
   ]
  },
  {
   "cell_type": "code",
   "execution_count": null,
   "metadata": {
    "tags": []
   },
   "outputs": [],
   "source": [
    "type(new_d)"
   ]
  },
  {
   "cell_type": "code",
   "execution_count": null,
   "metadata": {
    "tags": []
   },
   "outputs": [],
   "source": [
    "new_d"
   ]
  },
  {
   "cell_type": "markdown",
   "metadata": {},
   "source": [
    "#### 1.4. Our solution to store credentiials"
   ]
  },
  {
   "cell_type": "markdown",
   "metadata": {},
   "source": [
    "Create a file with the credentials and keep it safe from direct use of its content within the code."
   ]
  },
  {
   "cell_type": "code",
   "execution_count": null,
   "metadata": {
    "tags": []
   },
   "outputs": [],
   "source": [
    "os.listdir()"
   ]
  },
  {
   "cell_type": "code",
   "execution_count": null,
   "metadata": {},
   "outputs": [],
   "source": [
    "# this way is better\n",
    "def access_data(file_path):\n",
    "    \"\"\"\n",
    "    Reads JSON data from file.\n",
    "    JSON data is a dictionary\n",
    "    in Python.\n",
    "\n",
    "    Keyword agruments:\n",
    "      file_path: path to a file with JSON data\n",
    "\n",
    "    By the way, here is a guide for docstring\n",
    "    for Python functions:\n",
    "    https://peps.python.org/pep-0257/\n",
    "\n",
    "    \"\"\"\n",
    "    with open(file_path) as file:\n",
    "        access_data = json.load(file)\n",
    "    return access_data\n",
    "\n",
    "\n",
    "creds = access_data(file_path='data/access_dbase.json')\n",
    "print(creds.keys())"
   ]
  },
  {
   "cell_type": "code",
   "execution_count": null,
   "metadata": {},
   "outputs": [],
   "source": [
    "conn = psycopg2.connect(\n",
    "    dbname=creds['DBNAME'],\n",
    "    user=creds['USERNAME'],\n",
    "    password=creds['PASSWORD'],\n",
    "    host=creds['POSTGRESQL_HOST'],\n",
    "    port='6432'\n",
    ")\n",
    "cur = conn.cursor()"
   ]
  },
  {
   "cell_type": "markdown",
   "metadata": {},
   "source": [
    "### 2. How to send query"
   ]
  },
  {
   "cell_type": "code",
   "execution_count": null,
   "metadata": {},
   "outputs": [],
   "source": [
    "query = 'SELECT * FROM pg_catalog.pg_tables;'"
   ]
  },
  {
   "cell_type": "code",
   "execution_count": null,
   "metadata": {},
   "outputs": [],
   "source": [
    "cur.execute(query)\n",
    "records = cur.fetchall()\n",
    "cur.close()\n",
    "conn.close()"
   ]
  },
  {
   "cell_type": "code",
   "execution_count": null,
   "metadata": {},
   "outputs": [],
   "source": [
    "del conn, cur"
   ]
  },
  {
   "cell_type": "code",
   "execution_count": null,
   "metadata": {},
   "outputs": [],
   "source": [
    "print(records[0])"
   ]
  },
  {
   "cell_type": "markdown",
   "metadata": {},
   "source": [
    "### 3. How to send query ('with' context manager)"
   ]
  },
  {
   "cell_type": "markdown",
   "metadata": {},
   "source": [
    "The [with](https://docs.python.org/3/reference/compound_stmts.html#with) statement is used to wrap the execution of a block with methods defined by a context manager (see section [With Statement Context Managers](https://docs.python.org/3/reference/datamodel.html#context-managers)). "
   ]
  },
  {
   "cell_type": "code",
   "execution_count": null,
   "metadata": {
    "tags": []
   },
   "outputs": [],
   "source": [
    "with psycopg2.connect(\n",
    "    dbname=creds['DBNAME'], \n",
    "    user=creds['USERNAME'],\n",
    "    password=creds['PASSWORD'], \n",
    "    host=creds['POSTGRESQL_HOST'],\n",
    "    port='6432'\n",
    ") as conn:\n",
    "    with conn.cursor() as cur:\n",
    "        cur.execute(query)\n",
    "        records = cur.fetchall()"
   ]
  },
  {
   "cell_type": "code",
   "execution_count": null,
   "metadata": {},
   "outputs": [],
   "source": [
    "print(records[0])"
   ]
  },
  {
   "cell_type": "code",
   "execution_count": null,
   "metadata": {},
   "outputs": [],
   "source": [
    "# NOTE that they are closed after use becuase of `with`\n",
    "conn, cur"
   ]
  },
  {
   "cell_type": "markdown",
   "metadata": {},
   "source": [
    "### 4. Multiply queries"
   ]
  },
  {
   "cell_type": "code",
   "execution_count": null,
   "metadata": {},
   "outputs": [],
   "source": [
    "# here are queries to database\n",
    "# first is for all names of databases\n",
    "# second is for all names of tables\n",
    "# third is for all columns in table `jhublogs`\n",
    "queries = {\n",
    "    '___DATABASES___': 'SELECT * FROM pg_database',\n",
    "    '___TABLES___': \"SELECT relname FROM pg_class WHERE relkind='r' AND relname !~ '^(pg_|sql_)';\",\n",
    "    '___COLUMNS___': \"SELECT column_name FROM INFORMATION_SCHEMA.COLUMNS WHERE TABLE_NAME = 'jhublogs';\"\n",
    "}"
   ]
  },
  {
   "cell_type": "code",
   "execution_count": null,
   "metadata": {},
   "outputs": [],
   "source": [
    "with psycopg2.connect(\n",
    "    dbname=creds['DBNAME'], \n",
    "    user=creds['USERNAME'],\n",
    "    password=creds['PASSWORD'], \n",
    "    host=creds['POSTGRESQL_HOST'],\n",
    "    port='6432'\n",
    ") as conn:\n",
    "    # simple loop for many queries\n",
    "    for name, query in queries.items():\n",
    "        print('\\n', name)\n",
    "        with conn.cursor() as cur:\n",
    "            cur.execute(query)\n",
    "            for row in cur.fetchall():\n",
    "                print(row)"
   ]
  },
  {
   "cell_type": "markdown",
   "metadata": {},
   "source": [
    "### 5. SQL for IPython"
   ]
  },
  {
   "cell_type": "markdown",
   "metadata": {},
   "source": [
    "The [IPython SQL](https://github.com/catherinedevlin/ipython-sql) framework allows to use [magic commands](https://ipython.readthedocs.io/en/stable/interactive/magics.html) like `%sql` (or `%%sql`) for SQL queries. We can connect to a database, then issue SQL commands within Jupyter."
   ]
  },
  {
   "cell_type": "markdown",
   "metadata": {},
   "source": [
    "#### 5.1. Install IPython SQL"
   ]
  },
  {
   "cell_type": "code",
   "execution_count": null,
   "metadata": {
    "tags": []
   },
   "outputs": [],
   "source": [
    "!pip install ipython-sql"
   ]
  },
  {
   "cell_type": "code",
   "execution_count": null,
   "metadata": {},
   "outputs": [],
   "source": [
    "%load_ext sql"
   ]
  },
  {
   "cell_type": "markdown",
   "metadata": {},
   "source": [
    "Connection data string to be used later:"
   ]
  },
  {
   "cell_type": "markdown",
   "metadata": {
    "tags": []
   },
   "source": [
    "#### 5.2. HINT to work with strings in Python"
   ]
  },
  {
   "cell_type": "markdown",
   "metadata": {},
   "source": [
    "How to insert variables into string? There are many options but will look at two of them:"
   ]
  },
  {
   "cell_type": "markdown",
   "metadata": {},
   "source": [
    "##### Option 1: f-string approach"
   ]
  },
  {
   "cell_type": "code",
   "execution_count": null,
   "metadata": {},
   "outputs": [],
   "source": [
    "# f-string approach\n",
    "var = 'Bob'\n",
    "my_string = 'Hello, Bob!'\n",
    "print(my_string)"
   ]
  },
  {
   "cell_type": "code",
   "execution_count": null,
   "metadata": {},
   "outputs": [],
   "source": [
    "var = 'Bob'\n",
    "my_string = f'Hello, {var}!'\n",
    "print(my_string)"
   ]
  },
  {
   "cell_type": "markdown",
   "metadata": {},
   "source": [
    "##### Option 2: .format() approach"
   ]
  },
  {
   "cell_type": "code",
   "execution_count": null,
   "metadata": {},
   "outputs": [],
   "source": [
    "var1 = 'Bob'\n",
    "var2 = 'Alice'"
   ]
  },
  {
   "cell_type": "code",
   "execution_count": null,
   "metadata": {},
   "outputs": [],
   "source": [
    "my_string = 'Hello, {} and {}!'.format(var1, var2)\n",
    "print(my_string)"
   ]
  },
  {
   "cell_type": "markdown",
   "metadata": {},
   "source": [
    "#### 5.3. Let's connect!"
   ]
  },
  {
   "cell_type": "code",
   "execution_count": null,
   "metadata": {},
   "outputs": [],
   "source": [
    "CONNECT_DATA = 'postgresql://{}:{}@{}:{}/{}'.format(\n",
    "    creds['USERNAME'],\n",
    "    creds['PASSWORD'], \n",
    "    creds['POSTGRESQL_HOST'],\n",
    "    '6432',\n",
    "    'dbsimba'\n",
    ")\n",
    "CONNECT_DATA"
   ]
  },
  {
   "cell_type": "markdown",
   "metadata": {},
   "source": [
    "Let's look at all databases in PostgreSQL. SQL query can be done after the connection with `%%sql` magic command:"
   ]
  },
  {
   "cell_type": "code",
   "execution_count": null,
   "metadata": {},
   "outputs": [],
   "source": [
    "%%sql $CONNECT_DATA\n",
    "    SELECT * FROM public.jhublogs LIMIT 5"
   ]
  },
  {
   "cell_type": "code",
   "execution_count": null,
   "metadata": {},
   "outputs": [],
   "source": [
    "%sql SELECT tablename AS table FROM pg_tables WHERE tablename !~ '^(pg_|sql_)'"
   ]
  },
  {
   "cell_type": "markdown",
   "metadata": {},
   "source": [
    "## <font color='red'>INTERMEDIATE QUIZ #1-1</font>\n",
    "You are exploring the data on __JupyterHub platform__ (https://jhas01.gsom.spbu.ru). Our database contains table of logs which is called `jhublogs` as you may have noticed.\n",
    "\n",
    "Answer the following questions with the help of `%%sql`:\n",
    "1. How many logs are there? (HINT: use `COUNT` command)\n",
    "2. What time interval is covered by logs? (HINT: use `max` and `min` commands over `log_timestamp` column)\n",
    "3. Find all types of logs (HINT: use `log_type` column and `DISTINCT` method)\n",
    "4. Find all logs that are produced by your activity? (HINT: use `LIKE '%mylogin%'` syntax)"
   ]
  },
  {
   "cell_type": "code",
   "execution_count": null,
   "metadata": {
    "tags": []
   },
   "outputs": [],
   "source": [
    "### YOUR CODE HERE ###"
   ]
  },
  {
   "cell_type": "markdown",
   "metadata": {},
   "source": [
    "### 6. How to deal with the data"
   ]
  },
  {
   "cell_type": "markdown",
   "metadata": {},
   "source": [
    "We like [Pandas dataframes](https://pandas.pydata.org/) so we can convert our data from the database to that format."
   ]
  },
  {
   "cell_type": "code",
   "execution_count": null,
   "metadata": {},
   "outputs": [],
   "source": [
    "query = 'SELECT * FROM public.jhublogs LIMIT 100000;'"
   ]
  },
  {
   "cell_type": "code",
   "execution_count": null,
   "metadata": {},
   "outputs": [],
   "source": [
    "with psycopg2.connect(\n",
    "    dbname=creds['DBNAME'],\n",
    "    user=creds['USERNAME'],\n",
    "    password=creds['PASSWORD'],\n",
    "    host=creds['POSTGRESQL_HOST'],\n",
    "    port='6432'\n",
    ") as conn:\n",
    "    with conn.cursor() as cur:\n",
    "        cur.execute(query)\n",
    "        # names of table columns\n",
    "        col_names = [desc[0] for desc in cur.description]\n",
    "        # data from table\n",
    "        records = cur.fetchall()"
   ]
  },
  {
   "cell_type": "code",
   "execution_count": null,
   "metadata": {},
   "outputs": [],
   "source": [
    "print(records[:3])"
   ]
  },
  {
   "cell_type": "code",
   "execution_count": null,
   "metadata": {},
   "outputs": [],
   "source": [
    "print(col_names)"
   ]
  },
  {
   "cell_type": "code",
   "execution_count": null,
   "metadata": {},
   "outputs": [],
   "source": [
    "import pandas as pd"
   ]
  },
  {
   "cell_type": "code",
   "execution_count": null,
   "metadata": {},
   "outputs": [],
   "source": [
    "df = pd.DataFrame(records, index=None)\n",
    "df.columns = col_names\n",
    "df.head()"
   ]
  },
  {
   "cell_type": "code",
   "execution_count": null,
   "metadata": {},
   "outputs": [],
   "source": [
    "df.shape"
   ]
  },
  {
   "cell_type": "code",
   "execution_count": null,
   "metadata": {},
   "outputs": [],
   "source": [
    "df.info()"
   ]
  },
  {
   "cell_type": "markdown",
   "metadata": {},
   "source": [
    "### 7. ClickHouse connection demo"
   ]
  },
  {
   "cell_type": "markdown",
   "metadata": {},
   "source": [
    "[ClickHouse](https://clickhouse.com/) is the fastest and most resource efficient open-source database for real-time apps and analytics. \n",
    "\n",
    "How can we connect to it? We will need very famous [Requests](https://requests.readthedocs.io/en/latest/index.html) library."
   ]
  },
  {
   "cell_type": "code",
   "execution_count": null,
   "metadata": {},
   "outputs": [],
   "source": [
    "import requests"
   ]
  },
  {
   "cell_type": "code",
   "execution_count": null,
   "metadata": {},
   "outputs": [],
   "source": [
    "CH_HOST = 'http://10.129.0.30'\n",
    "CH_PORT = '8123'\n",
    "SSL_VERIFY = True\n",
    "query = 'SHOW DATABASES'\n",
    "user_name = os.environ['CLICKHOUSE_USER']\n",
    "user_passwd = os.environ['CLICKHOUSE_PASSWORD']"
   ]
  },
  {
   "cell_type": "code",
   "execution_count": null,
   "metadata": {},
   "outputs": [],
   "source": [
    "r = requests.post(\n",
    "    url=':'.join([CH_HOST, CH_PORT]),\n",
    "    data=query,\n",
    "    auth=(\n",
    "        os.environ['CLICKHOUSE_USER'],\n",
    "        os.environ['CLICKHOUSE_PASSWORD']\n",
    "    ),\n",
    "    verify=SSL_VERIFY\n",
    ")\n",
    "print('request status code:', r.status_code)"
   ]
  },
  {
   "cell_type": "markdown",
   "metadata": {},
   "source": [
    "Some useful info about [HTTP response status codes](https://developer.mozilla.org/en-US/docs/Web/HTTP/Status)."
   ]
  },
  {
   "cell_type": "code",
   "execution_count": null,
   "metadata": {},
   "outputs": [],
   "source": [
    "r"
   ]
  },
  {
   "cell_type": "code",
   "execution_count": null,
   "metadata": {},
   "outputs": [],
   "source": [
    "r.raw"
   ]
  },
  {
   "cell_type": "code",
   "execution_count": null,
   "metadata": {},
   "outputs": [],
   "source": [
    "r.text"
   ]
  },
  {
   "cell_type": "code",
   "execution_count": null,
   "metadata": {},
   "outputs": [],
   "source": [
    "def get_data(query, host, user_name, user_passwd):\n",
    "    \"\"\"\n",
    "    This function takes connection arguments\n",
    "    and gets back the data from database\n",
    "    we connect to.\n",
    "\n",
    "    Keyword agruments:\n",
    "      query: is SQL like query\n",
    "      host: database host\n",
    "      user_name: name of user\n",
    "      user_passwd: is a password\n",
    "\n",
    "    \"\"\"\n",
    "    if (user_name == '') and (user_passwd == ''):\n",
    "        r = requests.post(\n",
    "            host, \n",
    "            params=query_dict, \n",
    "            verify=SSL_VERIFY\n",
    "        )\n",
    "    else:\n",
    "        r = requests.post(\n",
    "            host, \n",
    "            data=query,\n",
    "            auth=(\n",
    "                user_name, \n",
    "                user_passwd\n",
    "            ), \n",
    "            verify=SSL_VERIFY\n",
    "        )\n",
    "    print('request status code:', r.status_code)\n",
    "    return r.text"
   ]
  },
  {
   "cell_type": "code",
   "execution_count": null,
   "metadata": {},
   "outputs": [],
   "source": [
    "query = 'SHOW TABLES FROM gsomlogs'\n",
    "data = get_data(\n",
    "    query=query,\n",
    "    host=':'.join([CH_HOST, CH_PORT]),\n",
    "    user_name=os.environ['CLICKHOUSE_USER'],\n",
    "    user_passwd=os.environ['CLICKHOUSE_PASSWORD']\n",
    ")"
   ]
  },
  {
   "cell_type": "code",
   "execution_count": null,
   "metadata": {},
   "outputs": [],
   "source": [
    "# raw format\n",
    "data"
   ]
  },
  {
   "cell_type": "code",
   "execution_count": null,
   "metadata": {},
   "outputs": [],
   "source": [
    "data = [x.split('\\t') for x in data.split('\\n')]\n",
    "pd.DataFrame(data)"
   ]
  },
  {
   "cell_type": "code",
   "execution_count": null,
   "metadata": {},
   "outputs": [],
   "source": [
    "query = 'SELECT * FROM gsomlogs.hits_all ORDER BY DateTime DESC LIMIT 100'\n",
    "data = get_data(\n",
    "    query=query,\n",
    "    host=':'.join([CH_HOST, CH_PORT]),\n",
    "    user_name=os.environ['CLICKHOUSE_USER'],\n",
    "    user_passwd=os.environ['CLICKHOUSE_PASSWORD']\n",
    ")"
   ]
  },
  {
   "cell_type": "code",
   "execution_count": null,
   "metadata": {},
   "outputs": [],
   "source": [
    "data = [x.split('\\t') for x in data.split('\\n')]\n",
    "df = pd.DataFrame(data)\n",
    "df.head()"
   ]
  },
  {
   "cell_type": "markdown",
   "metadata": {},
   "source": [
    "## <font color='red'>LAB WORK #1</font>"
   ]
  },
  {
   "cell_type": "markdown",
   "metadata": {},
   "source": [
    "Your lab work is as follows:\n",
    "1. Take Jupyter logs from database (PostgreSQL)\n",
    "2. Explore them \n",
    "3. Find users that log in Jupyter most often\n",
    "\n",
    "__HINT:__ look through fields `log_code` or `log_type` to undercover log in activities"
   ]
  },
  {
   "cell_type": "code",
   "execution_count": null,
   "metadata": {},
   "outputs": [],
   "source": [
    "### YOUR CODE HERE ###"
   ]
  },
  {
   "cell_type": "code",
   "execution_count": null,
   "metadata": {},
   "outputs": [],
   "source": []
  }
 ],
 "metadata": {
  "kernelspec": {
   "display_name": "Python 3 (ipykernel)",
   "language": "python",
   "name": "python3"
  },
  "language_info": {
   "codemirror_mode": {
    "name": "ipython",
    "version": 3
   },
   "file_extension": ".py",
   "mimetype": "text/x-python",
   "name": "python",
   "nbconvert_exporter": "python",
   "pygments_lexer": "ipython3",
   "version": "3.10.8"
  },
  "widgets": {
   "application/vnd.jupyter.widget-state+json": {
    "state": {},
    "version_major": 2,
    "version_minor": 0
   }
  }
 },
 "nbformat": 4,
 "nbformat_minor": 4
}
