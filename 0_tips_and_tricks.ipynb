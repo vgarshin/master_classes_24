{
 "cells": [
  {
   "cell_type": "markdown",
   "id": "23a9f901-3b0a-48dc-ab83-c3d3d45b3f2f",
   "metadata": {
    "tags": []
   },
   "source": [
    "# Mastering Applied Skills in Management, Analytics and Entrepreneurship I"
   ]
  },
  {
   "cell_type": "markdown",
   "id": "18ea9a5c-b32c-48a7-a21a-3894d2700040",
   "metadata": {},
   "source": [
    "## Python tips and tricks"
   ]
  },
  {
   "cell_type": "markdown",
   "id": "6512d854-1132-414e-a3d1-9d622653fdb4",
   "metadata": {
    "tags": []
   },
   "source": [
    "### 1. Magic"
   ]
  },
  {
   "cell_type": "markdown",
   "id": "8db69c5f-fa5c-43a2-9ed1-1a259eb79489",
   "metadata": {},
   "source": [
    "#### 1.1. Shell magic"
   ]
  },
  {
   "cell_type": "code",
   "execution_count": null,
   "id": "80a7d9e1-31bf-4285-bfca-251f9596fd38",
   "metadata": {
    "tags": []
   },
   "outputs": [],
   "source": [
    "!help"
   ]
  },
  {
   "cell_type": "code",
   "execution_count": null,
   "id": "28eb038f-aaac-4579-84ae-86e5223de897",
   "metadata": {},
   "outputs": [],
   "source": [
    "!pwd"
   ]
  },
  {
   "cell_type": "code",
   "execution_count": null,
   "id": "d7af8c0f-af56-4883-b084-ee8494c2a583",
   "metadata": {
    "tags": []
   },
   "outputs": [],
   "source": [
    "!ls"
   ]
  },
  {
   "cell_type": "code",
   "execution_count": null,
   "id": "25f31f2a-ef80-42c7-96a6-1c1a946009b6",
   "metadata": {},
   "outputs": [],
   "source": [
    "!date"
   ]
  },
  {
   "cell_type": "code",
   "execution_count": null,
   "id": "bcbe9ba8-7fa5-477e-9628-ba89fc39e8dd",
   "metadata": {
    "tags": []
   },
   "outputs": [],
   "source": [
    "!touch demo.txt\n",
    "!ls -la"
   ]
  },
  {
   "cell_type": "code",
   "execution_count": null,
   "id": "e179f3f1-2047-44c3-b704-167a7409960b",
   "metadata": {},
   "outputs": [],
   "source": [
    "!echo some text"
   ]
  },
  {
   "cell_type": "code",
   "execution_count": null,
   "id": "b2f7b60c-7d55-4e8e-a514-77c9b99e93ab",
   "metadata": {},
   "outputs": [],
   "source": [
    "!echo some text > demo.txt"
   ]
  },
  {
   "cell_type": "code",
   "execution_count": null,
   "id": "95219b71-58bb-4c7a-98b4-b8e6d24a0df2",
   "metadata": {},
   "outputs": [],
   "source": [
    "!cat demo.txt"
   ]
  },
  {
   "cell_type": "markdown",
   "id": "5318e340-a834-4676-955a-2f9f223b8225",
   "metadata": {},
   "source": [
    "#### 1.2. Jupyter's magic"
   ]
  },
  {
   "cell_type": "markdown",
   "id": "53ccd7f1-5a1e-4fa7-87d0-cd3c09818c51",
   "metadata": {},
   "source": [
    "[Here](https://ipython.readthedocs.io/en/stable/interactive/magics.html) is the magic of Jupyter."
   ]
  },
  {
   "cell_type": "code",
   "execution_count": null,
   "id": "7a1871fc-f4c0-44af-bca6-76b9d9b621fb",
   "metadata": {
    "tags": []
   },
   "outputs": [],
   "source": [
    "%magic"
   ]
  },
  {
   "cell_type": "code",
   "execution_count": null,
   "id": "9affe93a-8b7d-428d-ab70-32609c3be431",
   "metadata": {},
   "outputs": [],
   "source": [
    "%lsmagic"
   ]
  },
  {
   "cell_type": "code",
   "execution_count": null,
   "id": "8689d0df-1862-4d73-a042-977c374ddef8",
   "metadata": {},
   "outputs": [],
   "source": [
    "from time import sleep\n",
    "\n",
    "# I got up early morning...\n",
    "# let me sleep for 3 sec more\n",
    "sleep(3)"
   ]
  },
  {
   "cell_type": "markdown",
   "id": "052b0325-221c-4bb3-ba34-c0e8e504a456",
   "metadata": {},
   "source": [
    "Line magic:"
   ]
  },
  {
   "cell_type": "code",
   "execution_count": null,
   "id": "f848835e-c281-4d22-82f8-6165790bf059",
   "metadata": {},
   "outputs": [],
   "source": [
    "%time sleep(2)\n",
    "\n",
    "sleep(3)\n",
    "print('hello again')"
   ]
  },
  {
   "cell_type": "markdown",
   "id": "1f1c07df-602d-4e14-a692-69a658c6aeaf",
   "metadata": {},
   "source": [
    "Cell magic:"
   ]
  },
  {
   "cell_type": "code",
   "execution_count": null,
   "id": "9b27e9e1-fbb8-4658-bab8-7c944ed624ef",
   "metadata": {},
   "outputs": [],
   "source": [
    "%%time\n",
    "\n",
    "print('I want to print, then I sleep 5 sec')\n",
    "sleep(5)\n",
    "print('I print again')"
   ]
  },
  {
   "cell_type": "markdown",
   "id": "28500086-c278-49ac-b3e0-34e64c4052f3",
   "metadata": {},
   "source": [
    "Some `shell` commands are duplicated with magic:"
   ]
  },
  {
   "cell_type": "code",
   "execution_count": null,
   "id": "f60c8601-a085-4f36-a271-3b60733c8e1b",
   "metadata": {
    "tags": []
   },
   "outputs": [],
   "source": [
    "%pwd"
   ]
  },
  {
   "cell_type": "code",
   "execution_count": null,
   "id": "bdb83f45-13e5-47b5-9077-c66ab495996f",
   "metadata": {
    "tags": []
   },
   "outputs": [],
   "source": [
    "%ls"
   ]
  },
  {
   "cell_type": "markdown",
   "id": "4be3a1ae-882a-41ec-a17e-b648d5ab8fe4",
   "metadata": {},
   "source": [
    "#### 1.3. Jupyter's cell magic (bash)"
   ]
  },
  {
   "cell_type": "code",
   "execution_count": null,
   "id": "91c91432-8bd5-41eb-9a44-f9b4266cb784",
   "metadata": {},
   "outputs": [],
   "source": [
    "%%bash\n",
    "\n",
    "pwd"
   ]
  },
  {
   "cell_type": "code",
   "execution_count": null,
   "id": "66db6ec3-ece6-4000-8c7c-95ec6deea560",
   "metadata": {
    "tags": []
   },
   "outputs": [],
   "source": [
    "%%bash\n",
    "\n",
    "pwd\n",
    "ls -la"
   ]
  },
  {
   "cell_type": "markdown",
   "id": "bc41549e-1ba9-4e58-9b98-603ddb071893",
   "metadata": {},
   "source": [
    "Work with `shell`variables:"
   ]
  },
  {
   "cell_type": "code",
   "execution_count": null,
   "id": "094e9989-77e4-4c11-8a20-2defae6ac277",
   "metadata": {},
   "outputs": [],
   "source": [
    "%%bash\n",
    "\n",
    "bash_variable=\"hello\"\n",
    "echo $bash_variable\n",
    "echo ${bash_variable}"
   ]
  },
  {
   "cell_type": "code",
   "execution_count": null,
   "id": "542bb4b0-d5c8-40fb-95e2-e883af3196f6",
   "metadata": {
    "tags": []
   },
   "outputs": [],
   "source": [
    "# this varialble live in shell env only\n",
    "bash_variable"
   ]
  },
  {
   "cell_type": "markdown",
   "id": "e67689dc-9504-42a5-8b13-c33bfb109f4f",
   "metadata": {},
   "source": [
    "#### 1.4. Jupyter's cell magic (not only bash)"
   ]
  },
  {
   "cell_type": "code",
   "execution_count": null,
   "id": "5c294b21-2a51-4347-bf67-688d9741cb90",
   "metadata": {
    "tags": []
   },
   "outputs": [],
   "source": [
    "%%js\n",
    "alert('I can run JavaScript. Ha-ha, you did not expect this message!');"
   ]
  },
  {
   "cell_type": "markdown",
   "id": "39ce47d6-335a-4904-8114-031cb5fc3236",
   "metadata": {},
   "source": [
    "#### 1.5. More magic"
   ]
  },
  {
   "cell_type": "code",
   "execution_count": null,
   "id": "645ee9e1-e4bd-4656-ab03-55d29c990f73",
   "metadata": {
    "tags": []
   },
   "outputs": [],
   "source": [
    "# you can use ? to get details about magics, for instance:\n",
    "%pycat?"
   ]
  },
  {
   "cell_type": "code",
   "execution_count": null,
   "id": "65e0f40d-310e-448b-a970-339c0f5de5a8",
   "metadata": {},
   "outputs": [],
   "source": [
    "%%writefile run.py \n",
    "\n",
    "print('hello, I am small piece of code')\n",
    "print('run me please')"
   ]
  },
  {
   "cell_type": "code",
   "execution_count": null,
   "id": "920e8a7e-c98e-4a54-85f1-a78a8c2f8022",
   "metadata": {},
   "outputs": [],
   "source": [
    "%cat run.py"
   ]
  },
  {
   "cell_type": "code",
   "execution_count": null,
   "id": "1c0d12ff-9482-4310-a99d-b5f4aac96784",
   "metadata": {
    "tags": []
   },
   "outputs": [],
   "source": [
    "%pycat run.py"
   ]
  },
  {
   "cell_type": "code",
   "execution_count": null,
   "id": "59ae90fb-636c-48da-878e-0ef6a5374fc3",
   "metadata": {},
   "outputs": [],
   "source": [
    "%run run.py"
   ]
  },
  {
   "cell_type": "code",
   "execution_count": null,
   "id": "6da47b28-e446-4eea-a42c-f542822492db",
   "metadata": {},
   "outputs": [],
   "source": [
    "%load run.py"
   ]
  },
  {
   "cell_type": "markdown",
   "id": "eafda2b8-585f-43f9-849b-c7da547156b7",
   "metadata": {
    "tags": []
   },
   "source": [
    "#### 1.6. Meet formulas "
   ]
  },
  {
   "cell_type": "markdown",
   "id": "cab1b2b7-aaa6-4575-8ca3-5a4e0a27e886",
   "metadata": {},
   "source": [
    "Jupyter notebook uses [MathJax](https://www.mathjax.org/) syntax to render LaTeX inside `markdown` cells. Use your LaTeX math witn `$$` at the beginning and in the end of your formula:"
   ]
  },
  {
   "cell_type": "markdown",
   "id": "76f2fc1f-020e-429c-a0ab-ebd18bcf22d0",
   "metadata": {
    "tags": []
   },
   "source": [
    "$$c = \\sqrt{a^2 + b^2}$$"
   ]
  },
  {
   "cell_type": "markdown",
   "id": "07607276-64a0-4140-8d93-effc368d50ca",
   "metadata": {},
   "source": [
    "## <font color='red'>INTERMEDIATE QUIZ #0-1</font>\n",
    "Use MathJax syntax to write formula for the simplest case of [Binomial theorem](https://en.wikipedia.org/wiki/Binomial_theorem) and finish the equation:"
   ]
  },
  {
   "cell_type": "markdown",
   "id": "4237fca1-0a8d-4e8c-b86c-8b275cff8cd4",
   "metadata": {},
   "source": [
    "$$(x + y)^2 =...$$"
   ]
  },
  {
   "cell_type": "markdown",
   "id": "44fc223d-a315-4662-9182-bc4f90911fb6",
   "metadata": {
    "tags": []
   },
   "source": [
    "__HINT:__ [This short manual](https://math.meta.stackexchange.com/questions/5020/mathjax-basic-tutorial-and-quick-reference) or [this link](https://docs.mathjax.org/en/latest/basic/mathematics.html) could be helpful. "
   ]
  },
  {
   "cell_type": "markdown",
   "id": "cad00684-4983-4fe1-9ec7-2c024a97fc0b",
   "metadata": {},
   "source": [
    "### 2. Tips and Tricks"
   ]
  },
  {
   "cell_type": "code",
   "execution_count": null,
   "id": "46851a2d-3eaa-4966-a608-5b767df329fe",
   "metadata": {},
   "outputs": [],
   "source": [
    "# set variables in line with comma\n",
    "\n",
    "a, b = 1, 2\n",
    "print('a =', a)\n",
    "print('b =', b)"
   ]
  },
  {
   "cell_type": "code",
   "execution_count": null,
   "id": "3d271d46-bdd9-435e-9a29-f2fc8ac12216",
   "metadata": {},
   "outputs": [],
   "source": [
    "# inplace swap\n",
    "\n",
    "a, b = b, a + 3\n",
    "print('a =', a)\n",
    "print('b =', b)"
   ]
  },
  {
   "cell_type": "code",
   "execution_count": null,
   "id": "b47783f9-3071-46e6-95a7-15a5196ab673",
   "metadata": {},
   "outputs": [],
   "source": [
    "# multi assignments\n",
    "\n",
    "a = [1, 2, 3]\n",
    "x, y, z = a\n",
    "print(z)"
   ]
  },
  {
   "cell_type": "code",
   "execution_count": null,
   "id": "e018c3d2-eba2-40a6-a61f-99aa8faa04c3",
   "metadata": {},
   "outputs": [],
   "source": [
    "x"
   ]
  },
  {
   "cell_type": "code",
   "execution_count": null,
   "id": "d16d2225-0133-4bf5-a3be-537515bbc39f",
   "metadata": {},
   "outputs": [],
   "source": [
    "# id for variables or any object\n",
    "\n",
    "id(a)"
   ]
  },
  {
   "cell_type": "code",
   "execution_count": null,
   "id": "6e5f7a19-710b-4ae3-a158-ae961df033d3",
   "metadata": {},
   "outputs": [],
   "source": [
    "# aliasing\n",
    "# be careful\n",
    "# with variables!\n",
    "\n",
    "a = [1, 2, 3]\n",
    "b = a\n",
    "print('a =', a)\n",
    "print('b =', b)\n",
    "print('changing `b` list...')\n",
    "b[0] = 5\n",
    "print('id `a`:', id(a))\n",
    "print('a =', a)\n",
    "print('id `b`:', id(b))\n",
    "print('b =', b)"
   ]
  },
  {
   "cell_type": "code",
   "execution_count": null,
   "id": "cbbcddbc-bf04-43dd-8c12-511e8ee5eb6c",
   "metadata": {},
   "outputs": [],
   "source": [
    "# use `copy` if needed\n",
    "a = [1, 2, 3]\n",
    "b = a.copy()\n",
    "print('a =', a)\n",
    "print('b =', b)\n",
    "print('changing `b` list...')\n",
    "b[0] = 5\n",
    "print('id `a`:', id(a))\n",
    "print('a =', a)\n",
    "print('id `b`:', id(b))\n",
    "print('b =', b)"
   ]
  },
  {
   "cell_type": "code",
   "execution_count": null,
   "id": "aa52e125-7509-4501-a2c5-91199fa44ec9",
   "metadata": {},
   "outputs": [],
   "source": [
    "# merging dictionaries\n",
    "\n",
    "d1 = {'a': 1, 'b': 2}\n",
    "d2 = {'c': 3, 'd': 4}\n",
    "merged = d1 | d2\n",
    "print(merged)"
   ]
  },
  {
   "cell_type": "code",
   "execution_count": null,
   "id": "f2bfe649-b499-4fbb-84c1-141f4337bbe3",
   "metadata": {},
   "outputs": [],
   "source": [
    "# or like that\n",
    "\n",
    "merged = {**d1, **d2}\n",
    "print(merged)"
   ]
  },
  {
   "cell_type": "code",
   "execution_count": null,
   "id": "667a3864-7c5b-4ac3-9998-180edcb9560b",
   "metadata": {},
   "outputs": [],
   "source": [
    "# condition expressions\n",
    "\n",
    "man = False\n",
    "name = 'Bob' if man else 'Alice'\n",
    "print(name)"
   ]
  },
  {
   "cell_type": "code",
   "execution_count": null,
   "id": "7845b3fb-1265-46a2-8ebc-392e4fa095c6",
   "metadata": {},
   "outputs": [],
   "source": [
    "# chain comparison operators\n",
    "\n",
    "n = 10\n",
    "result = 1 < n < 20\n",
    "print(result)"
   ]
  },
  {
   "cell_type": "code",
   "execution_count": null,
   "id": "d08019b9-a4cf-4a96-ab1a-8e7806bdd4f8",
   "metadata": {},
   "outputs": [],
   "source": [
    "# underscore `_` is a legal identifier in Python\n",
    "# it's possible to use it to reference an object\n",
    "# but underscore also has another responsibility:\n",
    "# to store the result of the last evaluation\n",
    "\n",
    "1 + 2"
   ]
  },
  {
   "cell_type": "code",
   "execution_count": null,
   "id": "1db66334-816c-4832-89dc-af3412432a30",
   "metadata": {
    "tags": []
   },
   "outputs": [],
   "source": [
    "print(_)"
   ]
  },
  {
   "cell_type": "code",
   "execution_count": null,
   "id": "e2c7f8fa-b4af-4a21-b288-bacfe0c9c2c2",
   "metadata": {},
   "outputs": [],
   "source": [
    "for _ in range(5):\n",
    "    print(_)"
   ]
  },
  {
   "cell_type": "code",
   "execution_count": null,
   "id": "35456bf7-db30-45cd-8b2f-9d7df5c0beaa",
   "metadata": {},
   "outputs": [],
   "source": [
    "# underscore is often used\n",
    "# to store useless variables\n",
    "\n",
    "for _ in range(3):\n",
    "    print('one more text')"
   ]
  },
  {
   "cell_type": "code",
   "execution_count": null,
   "id": "47311d48-23c0-403f-93b1-701868465bfb",
   "metadata": {},
   "outputs": [],
   "source": [
    "# lambda functions\n",
    "\n",
    "def square(x):\n",
    "    return x ** 2\n",
    "\n",
    "\n",
    "print('just a function:', square(3))\n",
    "\n",
    "square_lambda = lambda x: x**2\n",
    "\n",
    "print('lambda function:', square_lambda(3))"
   ]
  },
  {
   "cell_type": "code",
   "execution_count": null,
   "id": "23c43186-eff2-44e9-abe8-5b23af48a162",
   "metadata": {},
   "outputs": [],
   "source": [
    "# work with exceptions\n",
    "\n",
    "def div_by_zero(x, y):\n",
    "    try:\n",
    "        return x / y\n",
    "    except:\n",
    "        print('oh, no!')\n",
    "\n",
    "\n",
    "x = 4\n",
    "y = 0\n",
    "print(div_by_zero(x, y))"
   ]
  },
  {
   "cell_type": "code",
   "execution_count": null,
   "id": "e2a39631-4880-409a-aafe-53eafe4a1bd3",
   "metadata": {},
   "outputs": [],
   "source": [
    "# args (arguments) and kwargs (key-value arguments)\n",
    "\n",
    "def just_function(*args, **kwargs):\n",
    "    print('args:', args)\n",
    "    print('kwargs:', kwargs)\n",
    "\n",
    "\n",
    "just_function(1, 2, 3, a=4, b=5, c=6)"
   ]
  },
  {
   "cell_type": "code",
   "execution_count": null,
   "id": "135696d8-6326-4a65-a8c8-e76677172f43",
   "metadata": {},
   "outputs": [],
   "source": [
    "# list comprehension\n",
    "\n",
    "odd_numbers = [x for x in range(10) if x % 2 != 0 and x != 0]\n",
    "print(odd_numbers)"
   ]
  },
  {
   "cell_type": "code",
   "execution_count": null,
   "id": "d0c0239a-a50e-4b9a-a92c-381f41bae137",
   "metadata": {},
   "outputs": [],
   "source": [
    "# flat list out of a list of lists\n",
    "\n",
    "list_of_lists = [\n",
    "    [1, 2, 3],\n",
    "    [4, 5, 6],\n",
    "    [7],\n",
    "    [8, 9]\n",
    "]\n",
    "flat_list = [\n",
    "    item for sublist in list_of_lists \n",
    "    for item in sublist\n",
    "]\n",
    "print(flat_list)"
   ]
  },
  {
   "cell_type": "code",
   "execution_count": null,
   "id": "e702b063-bcf5-4ffe-84d9-f4a7699e1305",
   "metadata": {},
   "outputs": [],
   "source": [
    "# reverse trick\n",
    "\n",
    "s = 'Californication'\n",
    "print(s[::-1])"
   ]
  },
  {
   "cell_type": "code",
   "execution_count": null,
   "id": "8b08e443-bd40-4601-98d2-3ad212bd10a4",
   "metadata": {},
   "outputs": [],
   "source": [
    "print('one')\n",
    "print('two')"
   ]
  },
  {
   "cell_type": "code",
   "execution_count": null,
   "id": "e809eba8-da5b-4b8b-8f76-7bd6ee2ae510",
   "metadata": {},
   "outputs": [],
   "source": [
    "# advanced print\n",
    "\n",
    "print('one', end=',')\n",
    "print('two', end=',')\n",
    "print('three')"
   ]
  },
  {
   "cell_type": "code",
   "execution_count": null,
   "id": "f7c71684-2855-4aa9-91c3-85483cca3e22",
   "metadata": {},
   "outputs": [],
   "source": [
    "# triple quotes for long text\n",
    "\n",
    "text = \"\"\"Here is a nice quote from George Orwell's 1984:\n",
    "Under the spreading chestnut tree I sold you and you sold me:\n",
    "There lie they, and here lie we Under the spreading chestnut \n",
    "tree.\"\"\"\n",
    "print(text[-15:-1])"
   ]
  },
  {
   "cell_type": "code",
   "execution_count": null,
   "id": "eab62617-ebf8-4916-be54-4b4f17532d4a",
   "metadata": {},
   "outputs": [],
   "source": [
    "# enumerate trick\n",
    "\n",
    "s = 'Whatsup'\n",
    "l = enumerate(s)\n",
    "print(list(l))"
   ]
  },
  {
   "cell_type": "code",
   "execution_count": null,
   "id": "0ac739bf-6521-40cc-9502-60988c26b5e6",
   "metadata": {},
   "outputs": [],
   "source": [
    "# or like that\n",
    "\n",
    "for idx, letter in enumerate(s):\n",
    "    print(idx, letter)"
   ]
  },
  {
   "cell_type": "markdown",
   "id": "da33f723-9a52-48ed-9a72-5c0cd8210a83",
   "metadata": {},
   "source": [
    "### 3. Regular Expressions"
   ]
  },
  {
   "cell_type": "markdown",
   "id": "e1fd552e-0193-424a-bb0d-7f9e11b01880",
   "metadata": {
    "tags": []
   },
   "source": [
    "Regular expressions (called REs, or regexes, or regex patterns) are essentially a tiny, highly specialized programming language embedded inside Python and made available through the [re module](https://docs.python.org/3/library/re.html#module-re). Here is also a good [manual](https://docs.python.org/3/howto/regex.html) to study."
   ]
  },
  {
   "cell_type": "markdown",
   "id": "391f80e6-3403-4e87-b35c-97170230d6e5",
   "metadata": {},
   "source": [
    "__NOTE:__ This topic is huge and can not be covered with the short discussion. We will look at just few examples that demonstrate how REs can be used in different cases."
   ]
  },
  {
   "cell_type": "code",
   "execution_count": null,
   "id": "fe28047c-f419-4f07-9dc9-9853bd636c24",
   "metadata": {
    "tags": []
   },
   "outputs": [],
   "source": [
    "import re"
   ]
  },
  {
   "cell_type": "markdown",
   "id": "c3e3b6a7-03d4-437d-b7f1-55cbb020f353",
   "metadata": {},
   "source": [
    "| Function | What for |\n",
    "| --- | --- |\n",
    "| re.search(pattern, string) | Search first occurrence by pattern in a string |\n",
    "| re.fullmatch(pattern, string) | Check if string meets pattern |\n",
    "| re.split(pattern, string, maxsplit=0) | Like str.split(), but split by pattern |\n",
    "| re.findall(pattern, string) | Find all occurrence by pattern in a string |\n",
    "| re.finditer(pattern, string) | Iter finder all occurrence by pattern in a string |\n",
    "| re.sub(pattern, repl, string, count=0) | Replace by pattern in a string |"
   ]
  },
  {
   "cell_type": "markdown",
   "id": "cfefe510-5ea0-41e0-bcab-9c6afb3e6f7e",
   "metadata": {},
   "source": [
    "#### 3.1. REs basics"
   ]
  },
  {
   "cell_type": "markdown",
   "id": "efe96745-fdcd-4111-bf49-eb4e5af3bbe8",
   "metadata": {},
   "source": [
    "But key for right use of REs is a proper `pattern`..."
   ]
  },
  {
   "cell_type": "code",
   "execution_count": null,
   "id": "6c346633-baba-4827-985a-d4b3299fb3e9",
   "metadata": {},
   "outputs": [],
   "source": [
    "# `/d` matches any decimal digit; this is equivalent to the class [0-9]\n",
    "\n",
    "match = re.search('\\d', 'phone number') \n",
    "print(match[0] if match else 'Not found')"
   ]
  },
  {
   "cell_type": "code",
   "execution_count": null,
   "id": "321fa6d4-3cb9-4c37-ae8c-0cc5988d1c2f",
   "metadata": {},
   "outputs": [],
   "source": [
    "# `/D` matches any non-digit character; this is equivalent to the class [^0-9]\n",
    "\n",
    "match = re.search('\\d', 'phone number 123-45-67') \n",
    "print(match[0] if match else 'Not found')"
   ]
  },
  {
   "cell_type": "code",
   "execution_count": null,
   "id": "b88c420d-d544-498d-9bcb-716dfe10cdad",
   "metadata": {},
   "outputs": [],
   "source": [
    "# `/d` and `/D` combination looks for `ddDdd` pattern\n",
    "\n",
    "match = re.search('\\d\\d\\D\\d\\d', 'phone number 123-45-67') \n",
    "print(match[0] if match else 'Not found')"
   ]
  },
  {
   "cell_type": "code",
   "execution_count": null,
   "id": "1e2b3946-2567-437c-9e0f-c6cfa76b6936",
   "metadata": {},
   "outputs": [],
   "source": [
    "# `/d` and `/D` combination looks for `dddDdd` pattern\n",
    "\n",
    "match = re.search('\\d\\d\\d\\D\\d\\d\\D\\d\\d', 'phone number 123-45-67') \n",
    "print(match[0] if match else 'Not found')"
   ]
  },
  {
   "cell_type": "code",
   "execution_count": null,
   "id": "d7909d01-edf7-4375-9463-b5487a214846",
   "metadata": {},
   "outputs": [],
   "source": [
    "# check if string meets pattern\n",
    "\n",
    "match = re.fullmatch('\\d\\d\\D\\d\\d\\D\\d\\d', '12-34-56') \n",
    "print('yes' if match else 'no') "
   ]
  },
  {
   "cell_type": "code",
   "execution_count": null,
   "id": "7a1a0aef-571f-4cf3-acf4-3667c5289480",
   "metadata": {},
   "outputs": [],
   "source": [
    "# find all dates in a format with dot\n",
    "# number after `\\d` sets the length of pattern\n",
    "\n",
    "print(re.findall(\n",
    "    '\\d\\d\\-\\d\\d\\-\\d{4}', \n",
    "    'this string contains date 15-11-2023, and another date 01.04.2004'\n",
    "))"
   ]
  },
  {
   "cell_type": "code",
   "execution_count": null,
   "id": "fdaba9eb-fd57-426d-9359-d0388755326b",
   "metadata": {},
   "outputs": [],
   "source": [
    "# iterate over string and find by pattern\n",
    "\n",
    "for date_found in re.finditer(\n",
    "    '\\d\\d\\.\\d\\d\\.\\d{4}', \n",
    "    'this string contains date 15.11.2023, and another date 01.04.2004'\n",
    "): \n",
    "    print(\n",
    "        'date found: ', date_found[0],\n",
    "        '| it starts with position:', date_found.start()\n",
    "    )"
   ]
  },
  {
   "cell_type": "code",
   "execution_count": null,
   "id": "63a2e83b-56f4-486c-962f-ec9a89b54393",
   "metadata": {
    "tags": []
   },
   "outputs": [],
   "source": [
    "# `\\W` matches any non-alphanumeric character;\n",
    "# this is equivalent to the class [^a-zA-Z0-9_]\n",
    "# `+` is for one or more; this is equivalent to the class {1,}\n",
    "\n",
    "print(re.split('\\W+', 'What are we doing now?!')) "
   ]
  },
  {
   "cell_type": "code",
   "execution_count": null,
   "id": "e809e4fb-2169-43ea-8b56-d7323a1a26fc",
   "metadata": {},
   "outputs": [],
   "source": [
    "# with no `+` we split by `?` and `!`, not by `?!`\n",
    "\n",
    "print(re.split('\\W', 'What are we doing now?!')) "
   ]
  },
  {
   "cell_type": "code",
   "execution_count": null,
   "id": "6fb5e4b0-e0cf-46b4-89b8-5979d05a992f",
   "metadata": {},
   "outputs": [],
   "source": [
    "# find all numbers in string\n",
    "# with help of `\\d` and `+`\n",
    "\n",
    "print(re.findall(\n",
    "    '\\d+', \n",
    "    'this string contains date 15.11.2023, and another date 01.04.2004'\n",
    "))"
   ]
  },
  {
   "cell_type": "code",
   "execution_count": null,
   "id": "d390b8e4-7ded-45ad-af57-5271b800613e",
   "metadata": {},
   "outputs": [],
   "source": [
    "# find all words in string\n",
    "# with help of `\\w` and `+`\n",
    "# `\\w` matches any alphanumeric character;\n",
    "# this is equivalent to the class [a-zA-Z0-9_]\n",
    "\n",
    "print(re.findall(\n",
    "    '\\w+', \n",
    "    'this string contains date 15.11.2023, and another date 01.04.2004'\n",
    ")) "
   ]
  },
  {
   "cell_type": "code",
   "execution_count": null,
   "id": "16bd4a67-c294-4595-b425-3d60db5f9f6d",
   "metadata": {},
   "outputs": [],
   "source": [
    "# only letters\n",
    "\n",
    "print(re.findall(\n",
    "    '[a-zA-Z]',\n",
    "    'this string contains date 15.11.2023, and another date 01.04.2004'\n",
    "))"
   ]
  },
  {
   "cell_type": "code",
   "execution_count": null,
   "id": "43869196-6ded-4e2b-af67-ef2be7fb6ddb",
   "metadata": {},
   "outputs": [],
   "source": [
    "# only words\n",
    "\n",
    "print(re.findall(\n",
    "    '[a-zA-Z]+',\n",
    "    'this string contains date 15.11.2023, and another date 01.04.2004'\n",
    "))"
   ]
  },
  {
   "cell_type": "markdown",
   "id": "be2f0ab0-2dde-4cab-aa9e-934934789bf8",
   "metadata": {},
   "source": [
    "#### 3.2. REs advanced"
   ]
  },
  {
   "cell_type": "code",
   "execution_count": null,
   "id": "bc53df64-239e-4442-9748-4737210b2de6",
   "metadata": {},
   "outputs": [],
   "source": [
    "# use `r` for raw string\n",
    "\n",
    "print('\\n')\n",
    "print(r'\\n')"
   ]
  },
  {
   "cell_type": "code",
   "execution_count": null,
   "id": "26648f04-ccbb-46c2-938a-3e081d204ca6",
   "metadata": {},
   "outputs": [],
   "source": [
    "# use REs for replace ONLY in dates\n",
    "# with swap `date` and `month`\n",
    "# NOTE that `r` helps with backslahes in Python\n",
    "\n",
    "text = 'this string contains date 15.11.2023, and another date 01.04.2004'\n",
    "print(text)\n",
    "print(re.sub(\n",
    "    '(\\d\\d).(\\d\\d).(\\d{4})', \n",
    "    r'\\2/\\1/\\3',\n",
    "    text,\n",
    "    flags=re.ASCII\n",
    ")) "
   ]
  },
  {
   "cell_type": "code",
   "execution_count": null,
   "id": "e28805ae-5756-4bdf-b63f-a11aed8e8834",
   "metadata": {},
   "outputs": [],
   "source": [
    "# find email address in text\n",
    "\n",
    "text = r\"\"\"\n",
    "this string contains date 15.11.2023,\n",
    "and another date 01.04.2004\n",
    "there is also my email vgarshin@vtb.education\n",
    "as well as my GSOM address vgarshin@gsom.spbu.ru\n",
    "\"\"\"\n",
    "emails = re.findall(r'[\\w\\.-]+@[\\w\\.-]+(?:\\.[\\w]+)+', text)\n",
    "emails"
   ]
  },
  {
   "cell_type": "code",
   "execution_count": null,
   "id": "88c18393-9b4d-4179-87e7-029f964b184b",
   "metadata": {},
   "outputs": [],
   "source": [
    "# how to censor some bad words\n",
    "\n",
    "def repl(m): \n",
    "    return '<CENZORED(' + str(len(m[0])) + ')>' \n",
    "\n",
    "\n",
    "text = 'some words are fantastic, fabulous and future oriented'\n",
    "print(text)\n",
    "print(re.sub(r'\\b[fF]\\w*', repl, text))"
   ]
  },
  {
   "cell_type": "code",
   "execution_count": null,
   "id": "2fe3ab3d-e267-48f2-b0b0-331beac3d808",
   "metadata": {},
   "outputs": [],
   "source": []
  }
 ],
 "metadata": {
  "kernelspec": {
   "display_name": "Python 3 (ipykernel)",
   "language": "python",
   "name": "python3"
  },
  "language_info": {
   "codemirror_mode": {
    "name": "ipython",
    "version": 3
   },
   "file_extension": ".py",
   "mimetype": "text/x-python",
   "name": "python",
   "nbconvert_exporter": "python",
   "pygments_lexer": "ipython3",
   "version": "3.10.8"
  },
  "widgets": {
   "application/vnd.jupyter.widget-state+json": {
    "state": {},
    "version_major": 2,
    "version_minor": 0
   }
  }
 },
 "nbformat": 4,
 "nbformat_minor": 5
}
