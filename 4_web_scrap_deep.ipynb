{
 "cells": [
  {
   "cell_type": "markdown",
   "id": "connected-friday",
   "metadata": {},
   "source": [
    "# Mastering Applied Skills in Management, Analytics and Entrepreneurship"
   ]
  },
  {
   "cell_type": "markdown",
   "id": "formal-speech",
   "metadata": {},
   "source": [
    "## DATA COLLECTION TECHNIQUES\n",
    "## Part IV. Web scraping deeper dive"
   ]
  },
  {
   "cell_type": "markdown",
   "id": "fd3d4958-36e8-4a8f-ae51-4dc6f1088873",
   "metadata": {},
   "source": [
    "__NOTE:__ use this notebook with `Data Science environment`."
   ]
  },
  {
   "cell_type": "markdown",
   "id": "compressed-lingerie",
   "metadata": {},
   "source": [
    "### 1. Libraries"
   ]
  },
  {
   "cell_type": "code",
   "execution_count": null,
   "id": "actual-genealogy",
   "metadata": {},
   "outputs": [],
   "source": [
    "# some basic libraries\n",
    "import os\n",
    "import re\n",
    "import json\n",
    "import socket\n",
    "from random import randint, uniform\n",
    "# for sending requests\n",
    "from urllib.request import (\n",
    "    Request, \n",
    "    urlopen, \n",
    "    URLError, \n",
    "    HTTPError, \n",
    "    ProxyHandler, \n",
    "    build_opener, \n",
    "    install_opener)\n",
    "# to parce html data\n",
    "from bs4 import BeautifulSoup\n",
    "# for time delay while scraping\n",
    "from time import sleep, gmtime, strftime\n",
    "from time import sleep\n",
    "from tqdm.notebook import tqdm\n",
    "from urllib.parse import quote, unquote\n",
    "# to work with the data\n",
    "import pandas as pd"
   ]
  },
  {
   "cell_type": "markdown",
   "id": "ideal-single",
   "metadata": {},
   "source": [
    "### 2. Tools and hints for requests"
   ]
  },
  {
   "cell_type": "markdown",
   "id": "3c382af8-d668-4ddd-a892-50adb8bf7a7e",
   "metadata": {
    "tags": []
   },
   "source": [
    "Here is the site we would like to parce:"
   ]
  },
  {
   "cell_type": "code",
   "execution_count": null,
   "id": "fiscal-syracuse",
   "metadata": {
    "tags": []
   },
   "outputs": [],
   "source": [
    "url_to_parce = 'https://realpython.github.io/fake-jobs/'\n",
    "print(url_to_parce)"
   ]
  },
  {
   "cell_type": "markdown",
   "id": "60a339e5-7583-41d6-acee-38f534067311",
   "metadata": {
    "tags": []
   },
   "source": [
    "We can use simple approach:"
   ]
  },
  {
   "cell_type": "code",
   "execution_count": null,
   "id": "c41890fd-de31-4cd0-b252-186a79d809a3",
   "metadata": {},
   "outputs": [],
   "source": [
    "request = Request(url_to_parce)\n",
    "request"
   ]
  },
  {
   "cell_type": "markdown",
   "id": "9c2f8050-e411-4115-a1b7-7e71f19903fd",
   "metadata": {
    "tags": []
   },
   "source": [
    "...but it is a good practice to emulate human behaviour when parcing sites. Many sites block simple vanilla requests like, so let's add more humanity to our parce code:\n",
    "- add [User Agent](https://developer.mozilla.org/en-US/docs/Web/HTTP/Headers/User-Agent) which is a characteristic string that lets servers and network peers identify the application, operating system, vendor, and/or version of the requesting source\n",
    "- add random delay between requests which will work if we use loop for many requests"
   ]
  },
  {
   "cell_type": "code",
   "execution_count": null,
   "id": "hawaiian-punishment",
   "metadata": {},
   "outputs": [],
   "source": [
    "USER_AGENT = 'Mozilla/5.0 (Windows NT 6.1; WOW64) AppleWebKit/537.36 (KHTML, like Gecko) Chrome/74.0.3729.169 YaBrowser/19.6.1.153 Yowser/2.5 Safari/537.36'\n",
    "MIN_TIME_SLEEP = .1\n",
    "MAX_TIME_SLEEP = .5\n",
    "MAX_COUNTS = 2\n",
    "TIMEOUT = 5"
   ]
  },
  {
   "cell_type": "code",
   "execution_count": null,
   "id": "asian-measure",
   "metadata": {},
   "outputs": [],
   "source": [
    "def get_content_lite(url_page, timeout):\n",
    "    \"\"\"\n",
    "    Loads page's content by URL address.\n",
    "    \n",
    "    Keyword arguments:\n",
    "      url_page: URL address of the page to be downloaded\n",
    "      timeout: timeout for urlopen function\n",
    "    \n",
    "    MIN_TIME_SLEEP, MAX_TIME_SLEEP are used \n",
    "    for random sleep between requests. \n",
    "    \n",
    "    \"\"\"\n",
    "    # sleep a while for not to overload site\n",
    "    sleep(uniform(MIN_TIME_SLEEP, MAX_TIME_SLEEP))\n",
    "    # make a request\n",
    "    request = Request(url_page)\n",
    "    request.add_header('User-Agent', USER_AGENT)\n",
    "    # get the response\n",
    "    response = urlopen(request, timeout=timeout)\n",
    "    content = response.read()\n",
    "    return content"
   ]
  },
  {
   "cell_type": "code",
   "execution_count": null,
   "id": "daffc667-a3de-4fea-acf0-2d2a8a101be2",
   "metadata": {},
   "outputs": [],
   "source": [
    "html = get_content_lite(url_to_parce, timeout=TIMEOUT)\n",
    "soup = BeautifulSoup(html, 'html.parser')"
   ]
  },
  {
   "cell_type": "code",
   "execution_count": null,
   "id": "fea092e9-4c8a-4058-a25e-ed7ec81b6f9f",
   "metadata": {},
   "outputs": [],
   "source": [
    "soup.name"
   ]
  },
  {
   "cell_type": "markdown",
   "id": "inappropriate-cattle",
   "metadata": {},
   "source": [
    "### 3. How to work with soup, examples"
   ]
  },
  {
   "cell_type": "code",
   "execution_count": null,
   "id": "known-fifteen",
   "metadata": {
    "tags": []
   },
   "outputs": [],
   "source": [
    "soup"
   ]
  },
  {
   "cell_type": "code",
   "execution_count": null,
   "id": "recorded-subcommittee",
   "metadata": {
    "tags": []
   },
   "outputs": [],
   "source": [
    "soup.text"
   ]
  },
  {
   "cell_type": "code",
   "execution_count": null,
   "id": "bd3de3ce-e387-49c4-adbc-24a12cce824d",
   "metadata": {
    "tags": []
   },
   "outputs": [],
   "source": [
    "soup.contents"
   ]
  },
  {
   "cell_type": "markdown",
   "id": "721138d0-f1b9-495e-83fc-3fe9239a8329",
   "metadata": {},
   "source": [
    "Example how to search:"
   ]
  },
  {
   "cell_type": "code",
   "execution_count": null,
   "id": "together-semiconductor",
   "metadata": {},
   "outputs": [],
   "source": [
    "soup.find('meta')"
   ]
  },
  {
   "cell_type": "code",
   "execution_count": null,
   "id": "sonic-person",
   "metadata": {},
   "outputs": [],
   "source": [
    "soup.find_all('meta')"
   ]
  },
  {
   "cell_type": "markdown",
   "id": "542e83e2-1aa7-409f-8f86-bd49ba57e77c",
   "metadata": {},
   "source": [
    "#### 3.1. Find an element"
   ]
  },
  {
   "cell_type": "markdown",
   "id": "e494098d-fe56-45e4-a387-a7036ce99804",
   "metadata": {},
   "source": [
    "To identify elements to search it is a good idea to open a [desired url](https://realpython.github.io/fake-jobs/) and use `Developer mode` with `F12` key. Then you may want to click right mouse button in the element and select `Explore element`."
   ]
  },
  {
   "cell_type": "code",
   "execution_count": null,
   "id": "44dc9322-894a-4ed5-b0d1-81956b868f6c",
   "metadata": {
    "tags": []
   },
   "outputs": [],
   "source": [
    "# start from the main page header\n",
    "# you can `Copy element` from `Developer mode`\n",
    "# <h1 class=\"title is-1\">\n",
    "#   Fake Python\n",
    "# </h1>\n",
    "soup.find(\n",
    "    'h1',               # filter on a tag name\n",
    "    class_='title is-1' # filters on attribute values, NOTE `class_` instead `class`\n",
    ")"
   ]
  },
  {
   "cell_type": "code",
   "execution_count": null,
   "id": "32bf95c7-3d5b-4114-819e-d5fad647b40f",
   "metadata": {
    "tags": []
   },
   "outputs": [],
   "source": [
    "soup.find(\n",
    "    'h1',\n",
    "    {'class': 'title is-1'} # dictionary stylr also works\n",
    ")"
   ]
  },
  {
   "cell_type": "markdown",
   "id": "4da9a485-887d-4324-af50-fc7afc76b49f",
   "metadata": {},
   "source": [
    "We found element, now extract what we want, e.g. text or data:"
   ]
  },
  {
   "cell_type": "code",
   "execution_count": null,
   "id": "326ef212-340e-4ffc-bb72-8fa485627211",
   "metadata": {},
   "outputs": [],
   "source": [
    "elem = soup.find('h1', {'class': 'title is-1'})"
   ]
  },
  {
   "cell_type": "code",
   "execution_count": null,
   "id": "e2ebad58-44f2-42b7-92fe-c479c91fb88d",
   "metadata": {},
   "outputs": [],
   "source": [
    "elem"
   ]
  },
  {
   "cell_type": "code",
   "execution_count": null,
   "id": "76388b14-de60-4624-a49e-bd1db4bd2b9e",
   "metadata": {},
   "outputs": [],
   "source": [
    "elem.attrs"
   ]
  },
  {
   "cell_type": "code",
   "execution_count": null,
   "id": "caede412-5d7d-46b8-8516-fffd5a9df75d",
   "metadata": {
    "tags": []
   },
   "outputs": [],
   "source": [
    "elem.contents"
   ]
  },
  {
   "cell_type": "code",
   "execution_count": null,
   "id": "a5962f7f-6e92-47c8-a55a-da9f39630be7",
   "metadata": {
    "tags": []
   },
   "outputs": [],
   "source": [
    "elem.get_text()"
   ]
  },
  {
   "cell_type": "code",
   "execution_count": null,
   "id": "07ebc49b-0ae7-4cba-a92d-3297fcee1084",
   "metadata": {
    "tags": []
   },
   "outputs": [],
   "source": [
    "elem.text"
   ]
  },
  {
   "cell_type": "code",
   "execution_count": null,
   "id": "dae51c2e-bd2e-4271-ac8a-cf27331446cf",
   "metadata": {},
   "outputs": [],
   "source": [
    "# try the other sub-header\n",
    "# <p class=\"subtitle is-3\">\n",
    "#   Fake Jobs for Your Web Scraping Journey\n",
    "# </p>\n",
    "soup.find('p', {'class': 'subtitle is-3'}).text"
   ]
  },
  {
   "cell_type": "code",
   "execution_count": null,
   "id": "f582f2ae-2e17-4242-81d1-60fe788c350c",
   "metadata": {},
   "outputs": [],
   "source": [
    "# find the first any `p` tag\n",
    "soup.find('p').text"
   ]
  },
  {
   "cell_type": "markdown",
   "id": "29d2f974-3a35-445e-b07d-e42efd910cc1",
   "metadata": {},
   "source": [
    "#### 3.2. Find many elements"
   ]
  },
  {
   "cell_type": "markdown",
   "id": "16c3a33e-eadd-4fc7-94ac-802576ea0ce5",
   "metadata": {},
   "source": [
    "It is possible to find all elements that satisfy search conditions at one search:"
   ]
  },
  {
   "cell_type": "code",
   "execution_count": null,
   "id": "f1848e8f-ef55-42b9-9a5e-7440943ab68a",
   "metadata": {
    "tags": []
   },
   "outputs": [],
   "source": [
    "# use `find_all` instedd of `find`\n",
    "soup.find_all('p')"
   ]
  },
  {
   "cell_type": "code",
   "execution_count": null,
   "id": "91c38aab-eebd-432b-8dc5-9757838faca3",
   "metadata": {},
   "outputs": [],
   "source": [
    "all_p_elements = soup.find_all('p')\n",
    "type(all_p_elements)"
   ]
  },
  {
   "cell_type": "code",
   "execution_count": null,
   "id": "d8ccc22f-1f2a-438d-9841-7bffc4a2ab65",
   "metadata": {},
   "outputs": [],
   "source": [
    "all_p_elements[0]"
   ]
  },
  {
   "cell_type": "code",
   "execution_count": null,
   "id": "823682ea-5b42-4b51-82dc-56baa1075975",
   "metadata": {},
   "outputs": [],
   "source": [
    "all_p_elements[0].text"
   ]
  },
  {
   "cell_type": "markdown",
   "id": "9890802d-7b15-43d4-ae93-8fc3d04674fe",
   "metadata": {},
   "source": [
    "__TIP:__ built-in function `enumerate` will help us. About [enumerate](https://docs.python.org/3/library/functions.html#enumerate) in Python."
   ]
  },
  {
   "cell_type": "code",
   "execution_count": null,
   "id": "3743385d-486b-49e7-8baf-1ad31bd245d0",
   "metadata": {
    "tags": []
   },
   "outputs": [],
   "source": [
    "for i, p_element in enumerate(all_p_elements):\n",
    "    print(\n",
    "        '`p` element number', i, '->',\n",
    "        p_element.text.strip()\n",
    "    )"
   ]
  },
  {
   "cell_type": "markdown",
   "id": "7a69e4a1-0121-4bb7-b11c-38e9440bd251",
   "metadata": {},
   "source": [
    "#### 3.3. Few more steps"
   ]
  },
  {
   "cell_type": "markdown",
   "id": "7c63d353-5b4c-4fa2-a268-39c74a309728",
   "metadata": {},
   "source": [
    "Now will do something more useful for our data collection task. Will collect all job descriptions from the page."
   ]
  },
  {
   "cell_type": "code",
   "execution_count": null,
   "id": "7421adb6-cacb-4d46-ac15-37f7751a7e27",
   "metadata": {},
   "outputs": [],
   "source": [
    "# again, copy element from `Developer mode`\n",
    "# <h2 >Senior Python Developer</h2>\n",
    "soup.find('h2', class_='title is-5')"
   ]
  },
  {
   "cell_type": "code",
   "execution_count": null,
   "id": "2ae8a384-1127-4163-9bfc-3de798f34ab1",
   "metadata": {
    "tags": []
   },
   "outputs": [],
   "source": [
    "# all job descriptions\n",
    "soup.find_all('h2', class_='title is-5')"
   ]
  },
  {
   "cell_type": "code",
   "execution_count": null,
   "id": "dfcf4e58-2701-41e4-9786-4f097f1adf3d",
   "metadata": {},
   "outputs": [],
   "source": [
    "all_jobs = soup.find_all('h2', class_='title is-5')\n",
    "all_jobs[0]"
   ]
  },
  {
   "cell_type": "markdown",
   "id": "fb1a7054-ef0b-4418-99a2-41ad81d56975",
   "metadata": {},
   "source": [
    "But these are only descriptions' headers, can we get whole card for job description?"
   ]
  },
  {
   "cell_type": "code",
   "execution_count": null,
   "id": "4d2cc892-6b6f-4c17-b713-6ddb94d83f10",
   "metadata": {
    "tags": []
   },
   "outputs": [],
   "source": [
    "# <div class=\"card-content\">\n",
    "#   ...here is all we need...\n",
    "# </div>\n",
    "soup.find('div', class_='card-content')"
   ]
  },
  {
   "cell_type": "code",
   "execution_count": null,
   "id": "e3508d30-4101-4a6c-a99e-2537847e0de6",
   "metadata": {},
   "outputs": [],
   "source": [
    "one_card = soup.find('div', class_='card-content')"
   ]
  },
  {
   "cell_type": "code",
   "execution_count": null,
   "id": "0214be6e-9344-4ee9-9ced-4dacbe47ff26",
   "metadata": {},
   "outputs": [],
   "source": [
    "one_card.contents"
   ]
  },
  {
   "cell_type": "code",
   "execution_count": null,
   "id": "surrounded-mainland",
   "metadata": {},
   "outputs": [],
   "source": [
    "one_card.find('h2')"
   ]
  },
  {
   "cell_type": "code",
   "execution_count": null,
   "id": "5d6eeff3-9d45-4d93-b64a-5bd09805c6ba",
   "metadata": {},
   "outputs": [],
   "source": [
    "one_card.find('h3')"
   ]
  },
  {
   "cell_type": "code",
   "execution_count": null,
   "id": "99b49ae2-7d32-4fa9-a6bf-cf5fac546d00",
   "metadata": {},
   "outputs": [],
   "source": [
    "one_card.find('p', class_='location')"
   ]
  },
  {
   "cell_type": "code",
   "execution_count": null,
   "id": "d44649f9-7a54-414f-a0d8-bfe2d157a180",
   "metadata": {},
   "outputs": [],
   "source": [
    "one_card.find('a', class_='card-footer-item')"
   ]
  },
  {
   "cell_type": "code",
   "execution_count": null,
   "id": "3e7a184d-eac2-4cd7-8519-66889fcc6e5f",
   "metadata": {},
   "outputs": [],
   "source": [
    "# extract URL from element\n",
    "one_card.find('a', class_='card-footer-item')['href']"
   ]
  },
  {
   "cell_type": "markdown",
   "id": "supreme-refrigerator",
   "metadata": {},
   "source": [
    "### 4. Let's cook our soup"
   ]
  },
  {
   "cell_type": "markdown",
   "id": "official-tumor",
   "metadata": {},
   "source": [
    "We can use `Developer mode` at the site or just search with `CTRL+F` inside soup because of the power of Jupyter notebook!"
   ]
  },
  {
   "cell_type": "markdown",
   "id": "hispanic-management",
   "metadata": {},
   "source": [
    "#### Step 1. Collect all the cards with job descriptions"
   ]
  },
  {
   "cell_type": "code",
   "execution_count": null,
   "id": "63588a89-5d55-4bde-a1cb-c75c80941d8c",
   "metadata": {},
   "outputs": [],
   "source": [
    "# use `find_all` function\n",
    "all_cards = soup.find_all('div', class_='card-content')\n",
    "type(all_cards)"
   ]
  },
  {
   "cell_type": "code",
   "execution_count": null,
   "id": "f8047520-ab22-4b51-8ed9-ef70131059fd",
   "metadata": {},
   "outputs": [],
   "source": [
    "print(\n",
    "    'total number of cards:',\n",
    "    len(all_cards)\n",
    ")"
   ]
  },
  {
   "cell_type": "markdown",
   "id": "177ad06f-7d4d-49a0-ba3a-7e5d2c024218",
   "metadata": {},
   "source": [
    "##### Create data structure for one card"
   ]
  },
  {
   "cell_type": "code",
   "execution_count": null,
   "id": "be2a2d45-a759-4395-ab91-90bc3295970c",
   "metadata": {},
   "outputs": [],
   "source": [
    "# one sample card\n",
    "all_cards[0]"
   ]
  },
  {
   "cell_type": "markdown",
   "id": "2729fc03-308e-4ebf-8dfe-e35adcde9892",
   "metadata": {},
   "source": [
    "Now will extract the data from single card and store it to easy-to-deal-with data structure. Let it be Python dictionary."
   ]
  },
  {
   "cell_type": "code",
   "execution_count": null,
   "id": "da258d34-7cac-4607-b1d8-f723746682fc",
   "metadata": {
    "tags": []
   },
   "outputs": [],
   "source": [
    "card_data = {}"
   ]
  },
  {
   "cell_type": "code",
   "execution_count": null,
   "id": "4e0713b8-76f1-4d1b-9b40-bf4e2f3c889b",
   "metadata": {},
   "outputs": [],
   "source": [
    "# let's see what we can extract\n",
    "all_cards[0].contents"
   ]
  },
  {
   "cell_type": "code",
   "execution_count": null,
   "id": "5a834965-bdbc-4f85-9cd5-694baffb6f74",
   "metadata": {},
   "outputs": [],
   "source": [
    "card_data['job_description'] = all_cards[0].find('h2', class_='title is-5').text\n",
    "print(card_data)"
   ]
  },
  {
   "cell_type": "code",
   "execution_count": null,
   "id": "5b7b79b6-9955-48b5-9be7-4f086adb7b3c",
   "metadata": {},
   "outputs": [],
   "source": [
    "card_data['company'] = all_cards[0].find('h3', class_='subtitle is-6 company').text\n",
    "print(card_data)"
   ]
  },
  {
   "cell_type": "code",
   "execution_count": null,
   "id": "8860858a-1d55-4ced-80d8-49021a3fc11d",
   "metadata": {},
   "outputs": [],
   "source": [
    "card_data['location'] = all_cards[0].find('p', class_='location').text\n",
    "print(card_data)"
   ]
  },
  {
   "cell_type": "code",
   "execution_count": null,
   "id": "0544a250-4030-4b8f-8eb9-21b2ebb383b3",
   "metadata": {
    "tags": []
   },
   "outputs": [],
   "source": [
    "# that's to be better\n",
    "card_data['location'] = all_cards[0].find('p', class_='location').text.strip()\n",
    "print(card_data)"
   ]
  },
  {
   "cell_type": "markdown",
   "id": "4d5e045e-3cf8-49d0-a92c-c7e6e6891dab",
   "metadata": {},
   "source": [
    "Convert string to datetime requires some skills and use of [datetime](https://docs.python.org/3/library/datetime.html) library."
   ]
  },
  {
   "cell_type": "code",
   "execution_count": null,
   "id": "bb358501-2a78-46cc-b4c7-57c25ba92f59",
   "metadata": {},
   "outputs": [],
   "source": [
    "all_cards[0].find('time').get('datetime')"
   ]
  },
  {
   "cell_type": "code",
   "execution_count": null,
   "id": "d613d688-582e-46b8-b037-af96c4f90294",
   "metadata": {},
   "outputs": [],
   "source": [
    "import datetime\n",
    "\n",
    "datetime.datetime.strptime('2021-04-08', '%Y-%m-%d').date()"
   ]
  },
  {
   "cell_type": "code",
   "execution_count": null,
   "id": "fe18298c-5ef4-4d02-9c74-74805130116a",
   "metadata": {
    "tags": []
   },
   "outputs": [],
   "source": [
    "card_data['publish_time'] = datetime.datetime.strptime(\n",
    "    all_cards[0].find('time').get('datetime'), '%Y-%m-%d'\n",
    ").date()\n",
    "print(card_data)"
   ]
  },
  {
   "cell_type": "code",
   "execution_count": null,
   "id": "6d83c5dc-9093-40bd-bb6f-f8e1d30a68d6",
   "metadata": {},
   "outputs": [],
   "source": [
    "#<a class=\"card-footer-item\" href=\"https://realpython.github.io/fake-jobs/jobs/senior-python-developer-0.html\" target=\"_blank\">Apply</a>"
   ]
  },
  {
   "cell_type": "code",
   "execution_count": null,
   "id": "4381f63d-39f7-4f8b-ae0d-e07cfcae47cf",
   "metadata": {},
   "outputs": [],
   "source": [
    "# extract `url` data requires `find_all`\n",
    "# because we have two urls in one card\n",
    "all_cards[0].find_all('a', class_='card-footer-item')"
   ]
  },
  {
   "cell_type": "code",
   "execution_count": null,
   "id": "32946fbc-278f-43ac-ba90-b2e8456bb1dd",
   "metadata": {},
   "outputs": [],
   "source": [
    "# use list comprehension\n",
    "[x['href'] for x in all_cards[0].find_all('a', class_='card-footer-item')]"
   ]
  },
  {
   "cell_type": "code",
   "execution_count": null,
   "id": "524ab012-0bba-46f8-8b04-6cea71823afa",
   "metadata": {},
   "outputs": [],
   "source": [
    "# we need only the second url\n",
    "all_cards[0].find_all('a', class_='card-footer-item')[1]['href']"
   ]
  },
  {
   "cell_type": "code",
   "execution_count": null,
   "id": "a1e972ce-2252-4be1-b9fc-16acc4fb3de6",
   "metadata": {
    "tags": []
   },
   "outputs": [],
   "source": [
    "card_data['url_details'] = all_cards[0].find_all('a', class_='card-footer-item')[1]['href']\n",
    "print(card_data)"
   ]
  },
  {
   "cell_type": "markdown",
   "id": "914da2fd-555a-468b-ae93-45215441b2b3",
   "metadata": {},
   "source": [
    "##### Run the loop for all cards"
   ]
  },
  {
   "cell_type": "code",
   "execution_count": null,
   "id": "357f5b0b-859f-41c2-ae2b-bcc1932fbef0",
   "metadata": {
    "tags": []
   },
   "outputs": [],
   "source": [
    "all_cards_list = []"
   ]
  },
  {
   "cell_type": "code",
   "execution_count": null,
   "id": "776d521e-cae6-432c-a7cb-51c7079888ff",
   "metadata": {},
   "outputs": [],
   "source": [
    "# add some beauty with `tqdm` library\n",
    "from tqdm.auto import tqdm\n",
    "\n",
    "for card in tqdm(all_cards):\n",
    "    card_data = {}\n",
    "    \n",
    "    card_data['job_description'] = card.find('h2', class_='title is-5').text\n",
    "    card_data['company'] = card.find('h3', class_='subtitle is-6 company').text\n",
    "    card_data['location'] = card.find('p', class_='location').text.strip()\n",
    "    card_data['publish_time'] = datetime.datetime.strptime(\n",
    "        card.find('time').get('datetime'), '%Y-%m-%d'\n",
    "    ).date()\n",
    "    card_data['url_details'] = card.find_all('a', class_='card-footer-item')[1]['href']\n",
    "    \n",
    "    all_cards_list.append(card_data)"
   ]
  },
  {
   "cell_type": "code",
   "execution_count": null,
   "id": "719dbf76-2abc-45b4-bc55-adc0291a0e64",
   "metadata": {
    "tags": []
   },
   "outputs": [],
   "source": [
    "len(all_cards_list)"
   ]
  },
  {
   "cell_type": "code",
   "execution_count": null,
   "id": "852aab6e-d2a3-48e8-8eec-a151407d3d98",
   "metadata": {},
   "outputs": [],
   "source": [
    "# sample of data\n",
    "all_cards_list[-1]"
   ]
  },
  {
   "cell_type": "markdown",
   "id": "confirmed-youth",
   "metadata": {},
   "source": [
    "#### Step 2. Collect detailed descriptions"
   ]
  },
  {
   "cell_type": "markdown",
   "id": "9e40e81a-0e0a-4b03-b285-18f2bfdb8424",
   "metadata": {},
   "source": [
    "We can more data if we parce `url_details` source. "
   ]
  },
  {
   "cell_type": "code",
   "execution_count": null,
   "id": "9d857023-e528-4c54-bf45-745d0b41c331",
   "metadata": {},
   "outputs": [],
   "source": [
    "url_details = all_cards_list[0]['url_details']\n",
    "print(url_details)"
   ]
  },
  {
   "cell_type": "code",
   "execution_count": null,
   "id": "bf11718a-ab01-4e42-81f4-34bd1b588a87",
   "metadata": {},
   "outputs": [],
   "source": [
    "html = get_content_lite(url_details, timeout=TIMEOUT)\n",
    "soup = BeautifulSoup(html, 'html.parser')"
   ]
  },
  {
   "cell_type": "code",
   "execution_count": null,
   "id": "7c970289-0802-42a6-886d-227717963ac6",
   "metadata": {
    "tags": []
   },
   "outputs": [],
   "source": [
    "# with the help of `Developer mode`\n",
    "# we can find the required data\n",
    "# <div class=\"content\">\n",
    "#     <p>Professional asset web application environmentally...</p>\n",
    "#     <p id=\"location\"><strong>Location:</strong> Stewartbury, AA</p>\n",
    "#     <p id=\"date\"><strong>Posted:</strong> 2021-04-08</p>\n",
    "# </div>\n",
    "\n",
    "soup.find('div', class_='content')"
   ]
  },
  {
   "cell_type": "code",
   "execution_count": null,
   "id": "e66c7ed6-79f1-4040-bdad-44bc9e3d64dc",
   "metadata": {
    "tags": []
   },
   "outputs": [],
   "source": [
    "# we need only description text\n",
    "# which is in the first `p` tag\n",
    "# so just use `find` again\n",
    "soup.find('div', class_='content').find('p')"
   ]
  },
  {
   "cell_type": "code",
   "execution_count": null,
   "id": "343a5a1c-25e5-4d55-9178-e47d9a5ab83f",
   "metadata": {},
   "outputs": [],
   "source": [
    "text = soup.find('div', class_='content').find('p').text\n",
    "text"
   ]
  },
  {
   "cell_type": "markdown",
   "id": "dd9be03e-ba66-4dc0-ae40-3e63dd688626",
   "metadata": {
    "tags": []
   },
   "source": [
    "#### Step 3. Combine all steps into final data collection loop"
   ]
  },
  {
   "cell_type": "code",
   "execution_count": null,
   "id": "7fa38de9-031c-41d2-bb48-11b0998f16c4",
   "metadata": {},
   "outputs": [],
   "source": [
    "all_cards_list = []\n",
    "\n",
    "for card in tqdm(all_cards):\n",
    "    card_data = {}\n",
    "    \n",
    "    # block for main data\n",
    "    card_data['job_description'] = card.find('h2', class_='title is-5').text\n",
    "    card_data['company'] = card.find('h3', class_='subtitle is-6 company').text\n",
    "    card_data['location'] = card.find('p', class_='location').text.strip()\n",
    "    card_data['publish_time'] = datetime.datetime.strptime(\n",
    "        card.find('time').get('datetime'), '%Y-%m-%d'\n",
    "    ).date()\n",
    "    card_data['url_details'] = card.find_all('a', class_='card-footer-item')[1]['href']\n",
    "    \n",
    "    # block for detailed data\n",
    "    # here we parce site pages in a loop\n",
    "    # and random time delay is good idea\n",
    "    url_details = card_data['url_details']\n",
    "    html = get_content_lite(url_details, timeout=TIMEOUT)\n",
    "    soup = BeautifulSoup(html, 'html.parser')\n",
    "    card_data['text'] = soup.find('div', class_='content').find('p').text\n",
    "    \n",
    "    all_cards_list.append(card_data)"
   ]
  },
  {
   "cell_type": "code",
   "execution_count": null,
   "id": "69ae41c2-24ae-402c-9fb3-9574040b2709",
   "metadata": {},
   "outputs": [],
   "source": [
    "len(all_cards_list)"
   ]
  },
  {
   "cell_type": "code",
   "execution_count": null,
   "id": "6799e93e-553b-4861-9b7c-e7ac834d0aa8",
   "metadata": {
    "tags": []
   },
   "outputs": [],
   "source": [
    "all_cards_list[0]"
   ]
  },
  {
   "cell_type": "code",
   "execution_count": null,
   "id": "360eb070-a029-4f99-9f37-69f0cd45f93e",
   "metadata": {},
   "outputs": [],
   "source": [
    "# convert data to dataframe\n",
    "# if necessary for analysis\n",
    "df = pd.DataFrame(all_cards_list)\n",
    "print(df.shape)\n",
    "df.head()"
   ]
  },
  {
   "cell_type": "markdown",
   "id": "2c1dec3f-1db8-4b68-9a60-78d922c4ac4a",
   "metadata": {},
   "source": [
    "### 5. Hints and tips for parcing sites"
   ]
  },
  {
   "cell_type": "markdown",
   "id": "bda37566-bfe5-49e2-947c-de68066d7029",
   "metadata": {},
   "source": [
    "Hints for data request:\n",
    "1. Proxy\n",
    "2. Exception\n",
    "3. Trials strategy (unlimited or count)"
   ]
  },
  {
   "cell_type": "code",
   "execution_count": null,
   "id": "strategic-hybrid",
   "metadata": {},
   "outputs": [],
   "source": [
    "def get_content(url_page, timeout, proxies=None, file=False):\n",
    "    counts = 0\n",
    "    content = None\n",
    "    while counts < MAX_COUNTS:\n",
    "        try:\n",
    "            request = Request(url_page)\n",
    "            request.add_header('User-Agent', USER_AGENT)\n",
    "            if proxies:\n",
    "                proxy_support = ProxyHandler(proxies)\n",
    "                opener = build_opener(proxy_support)\n",
    "                install_opener(opener)\n",
    "                context = ssl._create_unverified_context()\n",
    "                response = urlopen(request, context=context, timeout=timeout)\n",
    "            else:\n",
    "                response = urlopen(request, timeout=timeout)\n",
    "            if file:\n",
    "                content = response.read()\n",
    "            else:\n",
    "                try:\n",
    "                    content = response.read().decode(response.headers.get_content_charset())\n",
    "                except:\n",
    "                    content = None\n",
    "            break\n",
    "        except URLError as e:\n",
    "            counts += 1\n",
    "            print('URLError | ', url_page, ' | ', e, ' | counts: ', counts)\n",
    "            sleep(randint(counts * MIN_TIME_SLEEP, counts * MAX_TIME_SLEEP))\n",
    "        except HTTPError as e:\n",
    "            counts += 1\n",
    "            print('HTTPError | ', url_page, ' | ', e, ' | counts: ', counts)\n",
    "            sleep(randint(counts * MIN_TIME_SLEEP, counts * MAX_TIME_SLEEP))\n",
    "        except socket.timeout as e:\n",
    "            counts += 1\n",
    "            print('socket timeout | ', url_page, ' | ', e, ' | counts: ', counts)\n",
    "            sleep(randint(counts * MIN_TIME_SLEEP, counts * MAX_TIME_SLEEP))\n",
    "    return content"
   ]
  },
  {
   "cell_type": "markdown",
   "id": "bridal-sight",
   "metadata": {},
   "source": [
    "## <font color='red'>INTERMEDIATE QUIZ #4-1</font>\n",
    "Now will look at the St Petersburg University, or - to be precise - at the page with [key news at the University](https://english.spbu.ru/news-events/news).\n",
    "\n",
    "Your goals for the quiz are to:\n",
    "1. Take one of the news with the help of the `soup`\n",
    "2. Extract title and url for details"
   ]
  },
  {
   "cell_type": "markdown",
   "id": "03aa3450-2b52-405d-8d0f-a0ceb739630e",
   "metadata": {
    "tags": []
   },
   "source": [
    "#### HINTS"
   ]
  },
  {
   "cell_type": "code",
   "execution_count": null,
   "id": "341b97c3-6c26-46fa-bdd2-44fc33016e24",
   "metadata": {},
   "outputs": [],
   "source": [
    "# to parce site as usual\n",
    "url_details = 'https://english.spbu.ru/news-events/news'\n",
    "html = get_content(url_details, timeout=TIMEOUT)\n",
    "soup = BeautifulSoup(html, 'html.parser')"
   ]
  },
  {
   "cell_type": "code",
   "execution_count": null,
   "id": "3ca38ab6-cdbd-4cf0-8b43-2f3b46bf9650",
   "metadata": {
    "tags": []
   },
   "outputs": [],
   "source": [
    "# use `Developer mode` to find\n",
    "# <div class=\"card-context  card--with-img card-context--large \">\n",
    "#   ...\n",
    "# </div>\n",
    "\n",
    "soup.find('div', class_='card-context')"
   ]
  },
  {
   "cell_type": "code",
   "execution_count": null,
   "id": "a46a67af-ac18-4f56-8d7f-4215a1628b88",
   "metadata": {},
   "outputs": [],
   "source": [
    "### YOUR CODE HERE ###"
   ]
  },
  {
   "cell_type": "markdown",
   "id": "mediterranean-guard",
   "metadata": {},
   "source": [
    "## <font color='red'>LAB WORK #3</font>"
   ]
  },
  {
   "cell_type": "markdown",
   "id": "aging-click",
   "metadata": {},
   "source": [
    "Collect the data for all the news at the first page with [key news at the University](https://english.spbu.ru/news-events/news):\n",
    "1. Title of one record\n",
    "2. Time it was published\n",
    "3. Url (link) to the detailed news\n",
    "4. Annotation (first chapter) for every text"
   ]
  },
  {
   "cell_type": "code",
   "execution_count": null,
   "id": "d24918b2-590a-45c7-abab-a84f365e6001",
   "metadata": {},
   "outputs": [],
   "source": [
    "### YOUR CODE HERE ###"
   ]
  },
  {
   "cell_type": "code",
   "execution_count": null,
   "id": "0e009fe9-1d18-4977-af76-c7bf7a74b1a2",
   "metadata": {},
   "outputs": [],
   "source": []
  }
 ],
 "metadata": {
  "kernelspec": {
   "display_name": "Python 3 (ipykernel)",
   "language": "python",
   "name": "python3"
  },
  "language_info": {
   "codemirror_mode": {
    "name": "ipython",
    "version": 3
   },
   "file_extension": ".py",
   "mimetype": "text/x-python",
   "name": "python",
   "nbconvert_exporter": "python",
   "pygments_lexer": "ipython3",
   "version": "3.10.8"
  },
  "widgets": {
   "application/vnd.jupyter.widget-state+json": {
    "state": {
     "03429463100a497385b72e367058b917": {
      "model_module": "@jupyter-widgets/base",
      "model_module_version": "2.0.0",
      "model_name": "LayoutModel",
      "state": {}
     },
     "0f91b209b1b342d09f00b3375f2dee10": {
      "model_module": "@jupyter-widgets/base",
      "model_module_version": "2.0.0",
      "model_name": "LayoutModel",
      "state": {}
     },
     "21feef0ae4f94f2ba802c9c4fbe917cf": {
      "model_module": "@jupyter-widgets/controls",
      "model_module_version": "2.0.0",
      "model_name": "FloatProgressModel",
      "state": {
       "bar_style": "success",
       "layout": "IPY_MODEL_2cf3a220012f410eac6193fcfc5dc287",
       "style": "IPY_MODEL_5af47d6c677545319ef96295769b4f34",
       "value": 100
      }
     },
     "2cf3a220012f410eac6193fcfc5dc287": {
      "model_module": "@jupyter-widgets/base",
      "model_module_version": "2.0.0",
      "model_name": "LayoutModel",
      "state": {}
     },
     "2faaea658bc044c2a053b4a4afbaeee5": {
      "model_module": "@jupyter-widgets/controls",
      "model_module_version": "2.0.0",
      "model_name": "HTMLModel",
      "state": {
       "layout": "IPY_MODEL_553b9c123e32494eadf4c64b814f7522",
       "style": "IPY_MODEL_3b2e5a1da369485b88bd248f86d25893",
       "value": " 100/100 [00:00&lt;00:00, 3316.36it/s]"
      }
     },
     "3b2e5a1da369485b88bd248f86d25893": {
      "model_module": "@jupyter-widgets/controls",
      "model_module_version": "2.0.0",
      "model_name": "HTMLStyleModel",
      "state": {
       "description_width": "",
       "font_size": null,
       "text_color": null
      }
     },
     "4a93dd278ba94ec380805fdd44ec77b3": {
      "model_module": "@jupyter-widgets/base",
      "model_module_version": "2.0.0",
      "model_name": "LayoutModel",
      "state": {}
     },
     "4d89753ba372481eb4ba46d2f574868d": {
      "model_module": "@jupyter-widgets/controls",
      "model_module_version": "2.0.0",
      "model_name": "ProgressStyleModel",
      "state": {
       "description_width": ""
      }
     },
     "52b2e77b12a641ffbc7a59b61b1e42b1": {
      "model_module": "@jupyter-widgets/controls",
      "model_module_version": "2.0.0",
      "model_name": "HTMLStyleModel",
      "state": {
       "description_width": "",
       "font_size": null,
       "text_color": null
      }
     },
     "553b9c123e32494eadf4c64b814f7522": {
      "model_module": "@jupyter-widgets/base",
      "model_module_version": "2.0.0",
      "model_name": "LayoutModel",
      "state": {}
     },
     "5af47d6c677545319ef96295769b4f34": {
      "model_module": "@jupyter-widgets/controls",
      "model_module_version": "2.0.0",
      "model_name": "ProgressStyleModel",
      "state": {
       "description_width": ""
      }
     },
     "66ba6d53c5ee4aa5a1ec5c8236f2223e": {
      "model_module": "@jupyter-widgets/controls",
      "model_module_version": "2.0.0",
      "model_name": "FloatProgressModel",
      "state": {
       "bar_style": "success",
       "layout": "IPY_MODEL_4a93dd278ba94ec380805fdd44ec77b3",
       "style": "IPY_MODEL_4d89753ba372481eb4ba46d2f574868d",
       "value": 100
      }
     },
     "7da5e6b9c27d415c90860fc85fd961a2": {
      "model_module": "@jupyter-widgets/controls",
      "model_module_version": "2.0.0",
      "model_name": "HBoxModel",
      "state": {
       "children": [
        "IPY_MODEL_a4a34e8a264642b584138223ddb8a527",
        "IPY_MODEL_66ba6d53c5ee4aa5a1ec5c8236f2223e",
        "IPY_MODEL_9f5160038fa4449d88f47781cb3847fd"
       ],
       "layout": "IPY_MODEL_da7467a5575f4fc883bac2b6fbc2f558"
      }
     },
     "8794fc49fb884cb3835f0b788cedc54b": {
      "model_module": "@jupyter-widgets/controls",
      "model_module_version": "2.0.0",
      "model_name": "HTMLModel",
      "state": {
       "layout": "IPY_MODEL_0f91b209b1b342d09f00b3375f2dee10",
       "style": "IPY_MODEL_52b2e77b12a641ffbc7a59b61b1e42b1",
       "value": "100%"
      }
     },
     "9f5160038fa4449d88f47781cb3847fd": {
      "model_module": "@jupyter-widgets/controls",
      "model_module_version": "2.0.0",
      "model_name": "HTMLModel",
      "state": {
       "layout": "IPY_MODEL_e4ab94c5ea4d4a5ba80d7cffbec74374",
       "style": "IPY_MODEL_b6bf0c1ea9ed484a8684e5cf95be8f40",
       "value": " 100/100 [00:55&lt;00:00,  1.85it/s]"
      }
     },
     "a4a34e8a264642b584138223ddb8a527": {
      "model_module": "@jupyter-widgets/controls",
      "model_module_version": "2.0.0",
      "model_name": "HTMLModel",
      "state": {
       "layout": "IPY_MODEL_03429463100a497385b72e367058b917",
       "style": "IPY_MODEL_e8e09bacd83a453f941367899c462fe6",
       "value": "100%"
      }
     },
     "b6bf0c1ea9ed484a8684e5cf95be8f40": {
      "model_module": "@jupyter-widgets/controls",
      "model_module_version": "2.0.0",
      "model_name": "HTMLStyleModel",
      "state": {
       "description_width": "",
       "font_size": null,
       "text_color": null
      }
     },
     "da7467a5575f4fc883bac2b6fbc2f558": {
      "model_module": "@jupyter-widgets/base",
      "model_module_version": "2.0.0",
      "model_name": "LayoutModel",
      "state": {}
     },
     "e229c2cb257e41c5b58f061893c89820": {
      "model_module": "@jupyter-widgets/controls",
      "model_module_version": "2.0.0",
      "model_name": "HBoxModel",
      "state": {
       "children": [
        "IPY_MODEL_8794fc49fb884cb3835f0b788cedc54b",
        "IPY_MODEL_21feef0ae4f94f2ba802c9c4fbe917cf",
        "IPY_MODEL_2faaea658bc044c2a053b4a4afbaeee5"
       ],
       "layout": "IPY_MODEL_ec78e21db83245e8803f482b04f2360a"
      }
     },
     "e4ab94c5ea4d4a5ba80d7cffbec74374": {
      "model_module": "@jupyter-widgets/base",
      "model_module_version": "2.0.0",
      "model_name": "LayoutModel",
      "state": {}
     },
     "e8e09bacd83a453f941367899c462fe6": {
      "model_module": "@jupyter-widgets/controls",
      "model_module_version": "2.0.0",
      "model_name": "HTMLStyleModel",
      "state": {
       "description_width": "",
       "font_size": null,
       "text_color": null
      }
     },
     "ec78e21db83245e8803f482b04f2360a": {
      "model_module": "@jupyter-widgets/base",
      "model_module_version": "2.0.0",
      "model_name": "LayoutModel",
      "state": {}
     }
    },
    "version_major": 2,
    "version_minor": 0
   }
  }
 },
 "nbformat": 4,
 "nbformat_minor": 5
}
