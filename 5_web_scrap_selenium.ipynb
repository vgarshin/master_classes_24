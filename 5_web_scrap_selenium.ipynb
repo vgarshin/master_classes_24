{
 "cells": [
  {
   "cell_type": "markdown",
   "id": "temporal-calendar",
   "metadata": {},
   "source": [
    "# Mastering Applied Skills in Management, Analytics and Entrepreneurship"
   ]
  },
  {
   "cell_type": "markdown",
   "id": "33af877e",
   "metadata": {},
   "source": [
    "## DATA COLLECTION TECHNIQUES\n",
    "## Part V. Web scraping with Selenium"
   ]
  },
  {
   "cell_type": "markdown",
   "id": "blond-america",
   "metadata": {},
   "source": [
    "JupyterHub installation includes [Selenium with Python](https://selenium-python.readthedocs.io/) which provides a simple API to write functional/acceptance tests using Selenium WebDriver or just to scrap sites over the Internet."
   ]
  },
  {
   "cell_type": "markdown",
   "id": "a452e418",
   "metadata": {},
   "source": [
    "### 1. Selenium library"
   ]
  },
  {
   "cell_type": "code",
   "execution_count": null,
   "id": "lonely-nutrition",
   "metadata": {},
   "outputs": [],
   "source": [
    "import io\n",
    "import time\n",
    "import matplotlib.pyplot as plt\n",
    "import selenium\n",
    "from selenium import webdriver\n",
    "from selenium.webdriver import FirefoxOptions"
   ]
  },
  {
   "cell_type": "markdown",
   "id": "c5d1e80d-c818-4543-a26a-2211aad7bf78",
   "metadata": {
    "tags": []
   },
   "source": [
    "First step is to create browser to access the site, this browser will be our eyes and hands for this task. For the site this browser will look like any human-like user."
   ]
  },
  {
   "cell_type": "code",
   "execution_count": null,
   "id": "bound-ticket",
   "metadata": {
    "tags": []
   },
   "outputs": [],
   "source": [
    "opts = FirefoxOptions()\n",
    "opts.add_argument('--headless')\n",
    "browser = webdriver.Firefox(options=opts)"
   ]
  },
  {
   "cell_type": "code",
   "execution_count": null,
   "id": "b573ea57-7743-4df3-ac94-fb06f005d82e",
   "metadata": {},
   "outputs": [],
   "source": [
    "browser"
   ]
  },
  {
   "cell_type": "code",
   "execution_count": null,
   "id": "9584b735-e3a9-491a-b900-8ff5e60cad2b",
   "metadata": {},
   "outputs": [],
   "source": [
    "browser.name"
   ]
  },
  {
   "cell_type": "code",
   "execution_count": null,
   "id": "a40260fe-13c7-4f76-b3ab-a5e164085b99",
   "metadata": {},
   "outputs": [],
   "source": [
    "browser.current_url"
   ]
  },
  {
   "cell_type": "markdown",
   "id": "changing-introduction",
   "metadata": {},
   "source": [
    "### 2. Basic demo"
   ]
  },
  {
   "cell_type": "markdown",
   "id": "3f15c186-8457-4c3b-9b60-bc41ce69507d",
   "metadata": {
    "tags": []
   },
   "source": [
    "We will take a task from the last year diploma project which was about AI job description analysis. First step will be to collect data from the site."
   ]
  },
  {
   "cell_type": "code",
   "execution_count": null,
   "id": "parental-reform",
   "metadata": {},
   "outputs": [],
   "source": [
    "url_ai_jobs = 'https://aijobs.ai/'\n",
    "print(url_ai_jobs)"
   ]
  },
  {
   "cell_type": "code",
   "execution_count": null,
   "id": "ca5395fe-62a3-48e4-a3a0-0dc43fdebabb",
   "metadata": {},
   "outputs": [],
   "source": [
    "# put the url to our browser\n",
    "browser.get(url_ai_jobs)"
   ]
  },
  {
   "cell_type": "code",
   "execution_count": null,
   "id": "7e9a256f-17c9-448f-94f0-0cb0d0691301",
   "metadata": {},
   "outputs": [],
   "source": [
    "# now our browser got the url\n",
    "browser.current_url"
   ]
  },
  {
   "cell_type": "code",
   "execution_count": null,
   "id": "c33b99a8-6cb9-40e1-b975-7ad5f1fcfe1f",
   "metadata": {
    "tags": []
   },
   "outputs": [],
   "source": [
    "img_bytes = browser.get_full_page_screenshot_as_png()"
   ]
  },
  {
   "cell_type": "code",
   "execution_count": null,
   "id": "2e8588d8-ffec-4dd3-81fd-41cac4175b4f",
   "metadata": {
    "tags": []
   },
   "outputs": [],
   "source": [
    "from PIL import Image\n",
    "\n",
    "# we need some transformation \n",
    "# because image is in bytes\n",
    "plt.figure(figsize=(16, 64))\n",
    "img = Image.open(io.BytesIO(img_bytes))\n",
    "plt.imshow(img)\n",
    "plt.show()"
   ]
  },
  {
   "cell_type": "code",
   "execution_count": null,
   "id": "solar-vatican",
   "metadata": {},
   "outputs": [],
   "source": [
    "# easy task, just collect text from the page\n",
    "text_from_site = browser.find_element('xpath', 'html').text"
   ]
  },
  {
   "cell_type": "code",
   "execution_count": null,
   "id": "global-christianity",
   "metadata": {
    "tags": []
   },
   "outputs": [],
   "source": [
    "print(text_from_site)"
   ]
  },
  {
   "cell_type": "code",
   "execution_count": null,
   "id": "0bc9696a",
   "metadata": {},
   "outputs": [],
   "source": [
    "# remember this number!\n",
    "len(text_from_site)"
   ]
  },
  {
   "cell_type": "markdown",
   "id": "2d0ba716",
   "metadata": {},
   "source": [
    "### 3. Click buttons"
   ]
  },
  {
   "cell_type": "markdown",
   "id": "25ba3d2f-1637-4b2d-ba36-cdc0b5af2474",
   "metadata": {
    "tags": []
   },
   "source": [
    "What is the problem with `AI jobs` site? Why can not we use `BeautifulSoup` library as usual?"
   ]
  },
  {
   "cell_type": "markdown",
   "id": "8d1394e4-4bdf-4c63-8c33-a82d9a940dc7",
   "metadata": {
    "tags": []
   },
   "source": [
    "Because of the `Load more jobs` button. We need new page to open, but soup from `BeautifulSoup` collect data but can not click `Load more` buttons."
   ]
  },
  {
   "cell_type": "code",
   "execution_count": null,
   "id": "56d9ea11-0c12-49dc-804a-e38bdc7a24cf",
   "metadata": {},
   "outputs": [],
   "source": [
    "# find the button first\n",
    "# `Developer mode` will help us again\n",
    "# click `Explore element`\n",
    "# and `Copy XPath`\n",
    "# result is `//*[@id=\"load-more-button\"]`\n",
    "\n",
    "button_xpath = '//*[@id=\"load-more-button\"]'\n",
    "\n",
    "browser.find_element('xpath', button_xpath)"
   ]
  },
  {
   "cell_type": "code",
   "execution_count": null,
   "id": "19f23f68-eb08-4de7-836f-884188234883",
   "metadata": {
    "tags": []
   },
   "outputs": [],
   "source": [
    "browser.find_element('xpath', button_xpath).text"
   ]
  },
  {
   "cell_type": "code",
   "execution_count": null,
   "id": "2a8b8eff-8883-49b2-a992-1204c3a2a20a",
   "metadata": {
    "tags": []
   },
   "outputs": [],
   "source": [
    "# try to click it\n",
    "\n",
    "browser.find_element('xpath', button_xpath).click()"
   ]
  },
  {
   "cell_type": "code",
   "execution_count": null,
   "id": "e865e3ae",
   "metadata": {
    "tags": []
   },
   "outputs": [],
   "source": [
    "# below is an ugly workaround\n",
    "# but it works!\n",
    "# if you want a production solution\n",
    "# see here https://stackoverflow.com/questions/56085152\n",
    "# /selenium-python-error-element-could-not-be-scrolled-into-view\n",
    "\n",
    "import time\n",
    "import random\n",
    "\n",
    "MIN_TIME_SLEEP = 3\n",
    "MAX_TIME_SLEEP = 10\n",
    "flag = True\n",
    "\n",
    "while flag:\n",
    "    try:\n",
    "        browser.find_element('xpath', button_xpath).click()\n",
    "        print('clicked')\n",
    "        flag = False\n",
    "    except:\n",
    "        sec2sleep = random.uniform(MIN_TIME_SLEEP, MAX_TIME_SLEEP)\n",
    "        print('sleep', sec2sleep, 'sec(s) and then click again')\n",
    "        time.sleep(sec2sleep)"
   ]
  },
  {
   "cell_type": "code",
   "execution_count": null,
   "id": "57e46bc0",
   "metadata": {
    "tags": []
   },
   "outputs": [],
   "source": [
    "text_from_site = browser.find_element('xpath', 'html').text"
   ]
  },
  {
   "cell_type": "code",
   "execution_count": null,
   "id": "02ecb41e",
   "metadata": {},
   "outputs": [],
   "source": [
    "# look at the number carefully\n",
    "len(text_from_site)"
   ]
  },
  {
   "cell_type": "markdown",
   "id": "7830f87c",
   "metadata": {},
   "source": [
    "### 4. Click buttons wisely"
   ]
  },
  {
   "cell_type": "markdown",
   "id": "821f5f2b-9641-47da-847f-06df28e34629",
   "metadata": {
    "tags": []
   },
   "source": [
    "#### 4.1. Make many clicks"
   ]
  },
  {
   "cell_type": "code",
   "execution_count": null,
   "id": "cd0b1b2b",
   "metadata": {},
   "outputs": [],
   "source": [
    "counter = 0\n",
    "while counter < 3: # or 'while True:' for endless\n",
    "    try:\n",
    "        # click button\n",
    "        browser.find_element('xpath', button_xpath).click()\n",
    "        # ...and then collect data from site\n",
    "        text_from_site = browser.find_element('xpath', 'html').text\n",
    "        counter += 1\n",
    "        print('click', counter, '| text', len(text_from_site))\n",
    "    except Exception as e:\n",
    "        sec2sleep = random.uniform(MIN_TIME_SLEEP, MAX_TIME_SLEEP)\n",
    "        print('sleep', sec2sleep, 'sec(s) and then click again')\n",
    "        time.sleep(sec2sleep)\n",
    "text_from_site = browser.find_element('xpath', 'html').text\n",
    "len(text_from_site)"
   ]
  },
  {
   "cell_type": "markdown",
   "id": "66110935-f288-4df6-80fe-b34f82e99a83",
   "metadata": {},
   "source": [
    "#### 4.2. Try to find out what we have collected"
   ]
  },
  {
   "cell_type": "markdown",
   "id": "15422d2d-c427-4047-aedc-c013ce4675ac",
   "metadata": {},
   "source": [
    "It is a good idea to search elements with help of `XPath` and we can easily get it with help of `Developer mode`."
   ]
  },
  {
   "cell_type": "code",
   "execution_count": null,
   "id": "b9e46833",
   "metadata": {},
   "outputs": [],
   "source": [
    "from selenium.webdriver.common.by import By"
   ]
  },
  {
   "cell_type": "code",
   "execution_count": null,
   "id": "9fdd8817-d13e-44d2-926a-6993bbcd853d",
   "metadata": {
    "tags": []
   },
   "outputs": [],
   "source": [
    "# first copy XPath for first job's plate \n",
    "# which is `/html/body/div[3]/div/div/div[3]/div/a`\n",
    "# but here is a trick - we need all elements\n",
    "# so the right XPath will be `/html/body/div[3]/div/div/div[*]/div/a` \n",
    "\n",
    "jobs_xpath = '/html/body/div[*]/div/div/div[*]/div/a'\n",
    "jobs_xpath = '//*[@id=\"mix-job\"]/div[1]'\n",
    "jobs_xpath = '//*[@id=\"mix-job\"]/div[*]'\n",
    "jobs_xpath = '//*[@id=\"mix-job\"]/div[*]/div/a'\n",
    "\n",
    "jobs = browser.find_elements(By.XPATH, jobs_xpath)\n",
    "len(jobs)"
   ]
  },
  {
   "cell_type": "code",
   "execution_count": null,
   "id": "1148aa0b-4428-45a9-b15e-e5cf101f17b8",
   "metadata": {},
   "outputs": [],
   "source": [
    "one_job = jobs[0]\n",
    "one_job"
   ]
  },
  {
   "cell_type": "code",
   "execution_count": null,
   "id": "e303c1c7-444a-4147-990b-05f19214205d",
   "metadata": {},
   "outputs": [],
   "source": [
    "# data we can extract\n",
    "one_job.text"
   ]
  },
  {
   "cell_type": "code",
   "execution_count": null,
   "id": "87a7a5df-e0d6-43a3-a4a7-048af5742b56",
   "metadata": {},
   "outputs": [],
   "source": [
    "# we can extract sub-elements with `get_attribute`\n",
    "# and `Developer mode` for copying the structure\n",
    "# of the desired element e.g.\n",
    "# <a href=\"https://aijobs.ai/job/solution-architect-partner-development\" ...\n",
    "# ...\n",
    "# </a>\n",
    "\n",
    "one_job.get_attribute(name='href')"
   ]
  },
  {
   "cell_type": "code",
   "execution_count": null,
   "id": "67833f1f",
   "metadata": {},
   "outputs": [],
   "source": [
    "# we can go deeper again with help of XPath\n",
    "# for sub-elements but we need to edit a path\n",
    "# from `//*[@id=\"mix-job\"]/div[3]/div/a/div/div[1]/div[1]/div[1]`\n",
    "# to `.//div/div[1]/div[1]/div[1]` because `//*[@id=\"mix-job\"]/div[3]/div/a`\n",
    "# refers to whole element of job description\n",
    "\n",
    "one_job.find_element(By.XPATH, './/div/div[1]/div[1]/div[1]').text"
   ]
  },
  {
   "cell_type": "code",
   "execution_count": null,
   "id": "bf5e1dbc",
   "metadata": {},
   "outputs": [],
   "source": [
    "one_job.find_element(By.XPATH, './/div/div[1]/div[2]/span[1]').text"
   ]
  },
  {
   "cell_type": "code",
   "execution_count": null,
   "id": "8ddc7255",
   "metadata": {},
   "outputs": [],
   "source": [
    "one_job.find_element(By.XPATH, './/div/div[1]/div[2]/span[2]').text"
   ]
  },
  {
   "cell_type": "code",
   "execution_count": null,
   "id": "a0b56d35",
   "metadata": {},
   "outputs": [],
   "source": [
    "# some trick is required for many elements in list\n",
    "# look for `<span class=\"badge rounded-pill text-bg-light\">`\n",
    "[x.text for x in one_job.find_elements(By.XPATH, \".//div/div[1]/div[2]/span\")]"
   ]
  },
  {
   "cell_type": "code",
   "execution_count": null,
   "id": "244302cc",
   "metadata": {},
   "outputs": [],
   "source": [
    "one_job.find_element(By.XPATH, './/div/div[1]/div[3]/span').text"
   ]
  },
  {
   "cell_type": "code",
   "execution_count": null,
   "id": "a01fb24c",
   "metadata": {},
   "outputs": [],
   "source": [
    "one_job.find_element(By.XPATH, './/div/div[2]/div/div/span').text"
   ]
  },
  {
   "cell_type": "code",
   "execution_count": null,
   "id": "12349334",
   "metadata": {},
   "outputs": [],
   "source": [
    "one_job.find_element(By.XPATH, './/div/div[2]/div/span/span').text"
   ]
  },
  {
   "cell_type": "markdown",
   "id": "ff6bd782-feac-408b-b8d8-7214100cacd4",
   "metadata": {
    "tags": []
   },
   "source": [
    "#### 4.3. Make a loop for all job descriptions"
   ]
  },
  {
   "cell_type": "code",
   "execution_count": null,
   "id": "1e388c0f",
   "metadata": {},
   "outputs": [],
   "source": [
    "from tqdm.auto import tqdm"
   ]
  },
  {
   "cell_type": "code",
   "execution_count": null,
   "id": "245d4b22",
   "metadata": {},
   "outputs": [],
   "source": [
    "all_jobs = []\n",
    "for job in tqdm(jobs):\n",
    "    job_dict = {}\n",
    "    job_dict['url'] = job.get_attribute(name='href')\n",
    "    try:\n",
    "        job_dict['location'] = job.find_element(By.XPATH, './/div/div[2]/div/span/span').text\n",
    "    except:\n",
    "        job_dict['location'] = ''\n",
    "    try:\n",
    "        job_dict['salary_range'] = job.find_element(By.XPATH, './/div/div[1]/div[3]/span').text\n",
    "    except:\n",
    "        job_dict['salary_range'] = ''\n",
    "    job_dict['position'] = job.find_element(By.XPATH, './/div/div[1]/div[1]/div[1]').text\n",
    "    job_dict['company'] = job.find_element(By.XPATH, './/div/div[2]/div/div/span').text\n",
    "    job_dict['other'] = [\n",
    "        x.text \n",
    "        for x in job.find_elements(By.XPATH, \".//div/div[1]/div[2]/span\")\n",
    "    ]\n",
    "    all_jobs.append(job_dict)"
   ]
  },
  {
   "cell_type": "code",
   "execution_count": null,
   "id": "0be7d567",
   "metadata": {},
   "outputs": [],
   "source": [
    "import pandas as pd"
   ]
  },
  {
   "cell_type": "code",
   "execution_count": null,
   "id": "6fb98c08",
   "metadata": {},
   "outputs": [],
   "source": [
    "df = pd.DataFrame(all_jobs)"
   ]
  },
  {
   "cell_type": "code",
   "execution_count": null,
   "id": "dccb4fdb",
   "metadata": {},
   "outputs": [],
   "source": [
    "df"
   ]
  },
  {
   "cell_type": "markdown",
   "id": "89264b74",
   "metadata": {},
   "source": [
    "### 5. Single position with Selenium"
   ]
  },
  {
   "cell_type": "code",
   "execution_count": null,
   "id": "5135bdeb",
   "metadata": {
    "tags": []
   },
   "outputs": [],
   "source": [
    "print(all_jobs[10]['url'])"
   ]
  },
  {
   "cell_type": "code",
   "execution_count": null,
   "id": "70604d47-700f-4a73-b5b4-7f08adab37a3",
   "metadata": {},
   "outputs": [],
   "source": [
    "df.url[0]"
   ]
  },
  {
   "cell_type": "markdown",
   "id": "ab8e32bf-c6fd-4910-aa3a-e44c52571bf6",
   "metadata": {
    "tags": []
   },
   "source": [
    "We need new browser for the new url:"
   ]
  },
  {
   "cell_type": "code",
   "execution_count": null,
   "id": "03f52619",
   "metadata": {},
   "outputs": [],
   "source": [
    "opts = FirefoxOptions()\n",
    "opts.add_argument('--headless')\n",
    "browser = webdriver.Firefox(options=opts)"
   ]
  },
  {
   "cell_type": "code",
   "execution_count": null,
   "id": "4676ae1b",
   "metadata": {},
   "outputs": [],
   "source": [
    "url_ai_job = all_jobs[10]['url']\n",
    "browser.get(url_ai_job)"
   ]
  },
  {
   "cell_type": "code",
   "execution_count": null,
   "id": "95e89971",
   "metadata": {
    "tags": []
   },
   "outputs": [],
   "source": [
    "browser.find_element('xpath', 'html').text"
   ]
  },
  {
   "cell_type": "code",
   "execution_count": null,
   "id": "f630d4ef",
   "metadata": {
    "tags": []
   },
   "outputs": [],
   "source": [
    "description = browser.find_element(By.XPATH, '/html/body/div[2]/div[2]/div/div[1]/div')\n",
    "print(description.text)"
   ]
  },
  {
   "cell_type": "code",
   "execution_count": null,
   "id": "5366c158",
   "metadata": {},
   "outputs": [],
   "source": [
    "location = browser.find_element(By.XPATH, '/html/body/div[2]/div[2]/div/div[2]/div[1]/div/div/div/div/p')\n",
    "print(location.text)"
   ]
  },
  {
   "cell_type": "code",
   "execution_count": null,
   "id": "09111933",
   "metadata": {
    "tags": []
   },
   "outputs": [],
   "source": [
    "tag = browser.find_element(By.XPATH, '/html/body/div[2]/div[2]/div/div[2]/div[2]/div/a')\n",
    "print(tag.text)"
   ]
  },
  {
   "cell_type": "markdown",
   "id": "93e3cc5d-18cc-41b0-a684-47344a17a9a7",
   "metadata": {},
   "source": [
    "## <font color='red'>LAB WORK #4</font>"
   ]
  },
  {
   "cell_type": "markdown",
   "id": "fc567bb6-13a0-4f31-a4fe-34c7fdd68eb8",
   "metadata": {},
   "source": [
    "Collect at least 100 jobs from [ai-jobs.net](https://ai-jobs.net) and find maximum (maxValue) base salary in USD per year all across over the job descriptions collected."
   ]
  },
  {
   "cell_type": "code",
   "execution_count": null,
   "id": "2a2635bf-8ff3-42d9-9b80-6921b35eb1ed",
   "metadata": {},
   "outputs": [],
   "source": [
    "import os\n",
    "\n",
    "folder = 'ai_jobs_data'\n",
    "os.makedirs(folder, exist_ok=True)"
   ]
  },
  {
   "cell_type": "code",
   "execution_count": null,
   "id": "b2f35900-19b2-4fb7-ace4-804a03853fb2",
   "metadata": {},
   "outputs": [],
   "source": [
    "### YOUR CODE HERE ###"
   ]
  },
  {
   "cell_type": "code",
   "execution_count": null,
   "id": "2d3daa5e-5395-4f38-be17-bfe8b5472ae2",
   "metadata": {},
   "outputs": [],
   "source": []
  }
 ],
 "metadata": {
  "kernelspec": {
   "display_name": "Python 3 (ipykernel)",
   "language": "python",
   "name": "python3"
  },
  "language_info": {
   "codemirror_mode": {
    "name": "ipython",
    "version": 3
   },
   "file_extension": ".py",
   "mimetype": "text/x-python",
   "name": "python",
   "nbconvert_exporter": "python",
   "pygments_lexer": "ipython3",
   "version": "3.10.8"
  },
  "widgets": {
   "application/vnd.jupyter.widget-state+json": {
    "state": {
     "03075a73655e42aabe72def4f252a4fc": {
      "model_module": "@jupyter-widgets/controls",
      "model_module_version": "2.0.0",
      "model_name": "HTMLModel",
      "state": {
       "layout": "IPY_MODEL_f95f4c37c05d4ad49a4188db4fefb26c",
       "style": "IPY_MODEL_9a758459e7254e5d9511d96ca7fa038d",
       "value": "100%"
      }
     },
     "10ef7d9b8d494b7c8ead50cf8044a2b9": {
      "model_module": "@jupyter-widgets/base",
      "model_module_version": "2.0.0",
      "model_name": "LayoutModel",
      "state": {}
     },
     "11ac63a9c7454deca2755e4f9fcd2747": {
      "model_module": "@jupyter-widgets/controls",
      "model_module_version": "2.0.0",
      "model_name": "HBoxModel",
      "state": {
       "children": [
        "IPY_MODEL_03075a73655e42aabe72def4f252a4fc",
        "IPY_MODEL_c360ea7044c24752a83f3f0583c7f881",
        "IPY_MODEL_354a110a5f064057bf05e5bcd66cced6"
       ],
       "layout": "IPY_MODEL_5a6c4a22af2547c7b410d458658e0de2"
      }
     },
     "1d6db17d16d04f8e85ebde109481776a": {
      "model_module": "@jupyter-widgets/controls",
      "model_module_version": "2.0.0",
      "model_name": "HTMLStyleModel",
      "state": {
       "description_width": "",
       "font_size": null,
       "text_color": null
      }
     },
     "354a110a5f064057bf05e5bcd66cced6": {
      "model_module": "@jupyter-widgets/controls",
      "model_module_version": "2.0.0",
      "model_name": "HTMLModel",
      "state": {
       "layout": "IPY_MODEL_9102562e9ae64cd1af1cd458858f3fd9",
       "style": "IPY_MODEL_1d6db17d16d04f8e85ebde109481776a",
       "value": " 108/108 [00:02&lt;00:00, 41.45it/s]"
      }
     },
     "5a6c4a22af2547c7b410d458658e0de2": {
      "model_module": "@jupyter-widgets/base",
      "model_module_version": "2.0.0",
      "model_name": "LayoutModel",
      "state": {}
     },
     "9102562e9ae64cd1af1cd458858f3fd9": {
      "model_module": "@jupyter-widgets/base",
      "model_module_version": "2.0.0",
      "model_name": "LayoutModel",
      "state": {}
     },
     "9a758459e7254e5d9511d96ca7fa038d": {
      "model_module": "@jupyter-widgets/controls",
      "model_module_version": "2.0.0",
      "model_name": "HTMLStyleModel",
      "state": {
       "description_width": "",
       "font_size": null,
       "text_color": null
      }
     },
     "c0aad45858804c31a78724abb23a6c4d": {
      "model_module": "@jupyter-widgets/controls",
      "model_module_version": "2.0.0",
      "model_name": "ProgressStyleModel",
      "state": {
       "description_width": ""
      }
     },
     "c360ea7044c24752a83f3f0583c7f881": {
      "model_module": "@jupyter-widgets/controls",
      "model_module_version": "2.0.0",
      "model_name": "FloatProgressModel",
      "state": {
       "bar_style": "success",
       "layout": "IPY_MODEL_10ef7d9b8d494b7c8ead50cf8044a2b9",
       "max": 108,
       "style": "IPY_MODEL_c0aad45858804c31a78724abb23a6c4d",
       "value": 108
      }
     },
     "f95f4c37c05d4ad49a4188db4fefb26c": {
      "model_module": "@jupyter-widgets/base",
      "model_module_version": "2.0.0",
      "model_name": "LayoutModel",
      "state": {}
     }
    },
    "version_major": 2,
    "version_minor": 0
   }
  }
 },
 "nbformat": 4,
 "nbformat_minor": 5
}
