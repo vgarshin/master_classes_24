{
 "cells": [
  {
   "cell_type": "markdown",
   "id": "simple-pilot",
   "metadata": {},
   "source": [
    "# Mastering Applied Skills in Management, Analytics and Entrepreneurship"
   ]
  },
  {
   "cell_type": "markdown",
   "id": "loved-giant",
   "metadata": {},
   "source": [
    "## DATA COLLECTION TECHNIQUES\n",
    "## Part III. Web scraping intro"
   ]
  },
  {
   "cell_type": "markdown",
   "id": "54131e6d-d156-478a-ac9e-e22c8d03f37e",
   "metadata": {},
   "source": [
    "__NOTE:__ use this notebook with `Data Science environment`."
   ]
  },
  {
   "cell_type": "markdown",
   "id": "supported-wisdom",
   "metadata": {},
   "source": [
    "### 1. Libraries"
   ]
  },
  {
   "cell_type": "markdown",
   "id": "greatest-rubber",
   "metadata": {},
   "source": [
    "Let's start from very basic example, we wiil need [urllib](https://docs.python.org/3/library/urllib.html) library for  opening and reading URLs. We will also use [Beautiful Soup](https://beautiful-soup-4.readthedocs.io/en/latest/) Python library to parce HTML data."
   ]
  },
  {
   "cell_type": "code",
   "execution_count": null,
   "id": "conceptual-integration",
   "metadata": {},
   "outputs": [],
   "source": [
    "import os\n",
    "import re\n",
    "from urllib.request import Request, urlopen\n",
    "from bs4 import BeautifulSoup"
   ]
  },
  {
   "cell_type": "markdown",
   "id": "united-directive",
   "metadata": {},
   "source": [
    "### 2. Get text from HTML page"
   ]
  },
  {
   "cell_type": "code",
   "execution_count": null,
   "id": "hollywood-interference",
   "metadata": {},
   "outputs": [],
   "source": [
    "URL_2_SCRAP = 'https://gsom.spbu.ru/en/programmes/graduate/miba/'\n",
    "print(URL_2_SCRAP)"
   ]
  },
  {
   "cell_type": "code",
   "execution_count": null,
   "id": "greek-reunion",
   "metadata": {},
   "outputs": [],
   "source": [
    "request = Request(URL_2_SCRAP)"
   ]
  },
  {
   "cell_type": "code",
   "execution_count": null,
   "id": "22841373-421b-4887-bfff-248c50c84113",
   "metadata": {},
   "outputs": [],
   "source": [
    "request"
   ]
  },
  {
   "cell_type": "code",
   "execution_count": null,
   "id": "72f3e71c-027a-407f-bd17-99bca43c6ce7",
   "metadata": {},
   "outputs": [],
   "source": [
    "request.host"
   ]
  },
  {
   "cell_type": "code",
   "execution_count": null,
   "id": "fc9c0dc2-4417-471e-add6-e9b69bea4778",
   "metadata": {},
   "outputs": [],
   "source": [
    "request.full_url"
   ]
  },
  {
   "cell_type": "code",
   "execution_count": null,
   "id": "83dd0143-c197-4aed-9886-1ac7797c3357",
   "metadata": {},
   "outputs": [],
   "source": [
    "response = urlopen(request)"
   ]
  },
  {
   "cell_type": "code",
   "execution_count": null,
   "id": "7c302f40-c727-4cf0-b23c-4d05cd709de9",
   "metadata": {
    "tags": []
   },
   "outputs": [],
   "source": [
    "response.code"
   ]
  },
  {
   "cell_type": "code",
   "execution_count": null,
   "id": "3a44a2d5-b760-4a6a-b52e-505c542a4ccf",
   "metadata": {},
   "outputs": [],
   "source": [
    "response.length"
   ]
  },
  {
   "cell_type": "code",
   "execution_count": null,
   "id": "c5fff7e9-4a4b-4c05-acd4-e24abbed7acd",
   "metadata": {},
   "outputs": [],
   "source": [
    "html = response.read()"
   ]
  },
  {
   "cell_type": "code",
   "execution_count": null,
   "id": "bearing-ensemble",
   "metadata": {
    "tags": []
   },
   "outputs": [],
   "source": [
    "html\n",
    "print(html)"
   ]
  },
  {
   "cell_type": "markdown",
   "id": "4ecd1362-175c-4584-8e9e-19e2aa766a91",
   "metadata": {},
   "source": [
    "Time to [make a soup](https://beautiful-soup-4.readthedocs.io/en/latest/#making-the-soup) from our `html`. Soup will help us easily navigate inside the HTML structure:"
   ]
  },
  {
   "cell_type": "code",
   "execution_count": null,
   "id": "prostate-bahrain",
   "metadata": {
    "tags": []
   },
   "outputs": [],
   "source": [
    "soup = BeautifulSoup(html, 'html.parser')\n",
    "soup"
   ]
  },
  {
   "cell_type": "code",
   "execution_count": null,
   "id": "serious-story",
   "metadata": {
    "tags": []
   },
   "outputs": [],
   "source": [
    "soup.contents"
   ]
  },
  {
   "cell_type": "code",
   "execution_count": null,
   "id": "7b26e81c-069b-47a2-9bcd-458d583e2696",
   "metadata": {},
   "outputs": [],
   "source": [
    "type(soup.contents)"
   ]
  },
  {
   "cell_type": "code",
   "execution_count": null,
   "id": "754968d9-6f25-4575-9e66-9c0ac3c45d7c",
   "metadata": {},
   "outputs": [],
   "source": [
    "soup.contents[0]"
   ]
  },
  {
   "cell_type": "code",
   "execution_count": null,
   "id": "c157af79-a22f-4054-8386-2c4b9e5363e1",
   "metadata": {},
   "outputs": [],
   "source": [
    "soup.contents[-1]"
   ]
  },
  {
   "cell_type": "code",
   "execution_count": null,
   "id": "realistic-mustang",
   "metadata": {
    "tags": []
   },
   "outputs": [],
   "source": [
    "# here we take only text from the site\n",
    "soup.text"
   ]
  },
  {
   "cell_type": "code",
   "execution_count": null,
   "id": "accurate-message",
   "metadata": {},
   "outputs": [],
   "source": [
    "text = soup.text\n",
    "for ch in ['\\n', '\\t', '\\r']:\n",
    "    text = text.replace(ch, ' ')"
   ]
  },
  {
   "cell_type": "code",
   "execution_count": null,
   "id": "nonprofit-audio",
   "metadata": {
    "tags": []
   },
   "outputs": [],
   "source": [
    "' '.join(text.split())"
   ]
  },
  {
   "cell_type": "markdown",
   "id": "confidential-indianapolis",
   "metadata": {},
   "source": [
    "### 3. Simple NLP analysis"
   ]
  },
  {
   "cell_type": "code",
   "execution_count": null,
   "id": "chubby-cricket",
   "metadata": {
    "tags": []
   },
   "outputs": [],
   "source": [
    "# lower text and leave only text without special symbols\n",
    "text = re.sub('[^а-яА-Яa-zA-Z]+', ' ', text).strip().lower()\n",
    "text"
   ]
  },
  {
   "cell_type": "code",
   "execution_count": null,
   "id": "satisfactory-forth",
   "metadata": {},
   "outputs": [],
   "source": [
    "text_as_list = text.split()\n",
    "text_as_list[:5]"
   ]
  },
  {
   "cell_type": "code",
   "execution_count": null,
   "id": "designed-cameroon",
   "metadata": {},
   "outputs": [],
   "source": [
    "from collections import Counter"
   ]
  },
  {
   "cell_type": "code",
   "execution_count": null,
   "id": "pretty-values",
   "metadata": {
    "tags": []
   },
   "outputs": [],
   "source": [
    "Counter(text_as_list)"
   ]
  },
  {
   "cell_type": "code",
   "execution_count": null,
   "id": "variable-three",
   "metadata": {},
   "outputs": [],
   "source": [
    "# words frequencies\n",
    "freqs = dict(Counter(text_as_list))"
   ]
  },
  {
   "cell_type": "code",
   "execution_count": null,
   "id": "confused-atmosphere",
   "metadata": {
    "tags": []
   },
   "outputs": [],
   "source": [
    "freqs"
   ]
  },
  {
   "cell_type": "code",
   "execution_count": null,
   "id": "peripheral-colorado",
   "metadata": {
    "tags": []
   },
   "outputs": [],
   "source": [
    "freqs = dict(\n",
    "    sorted(\n",
    "        freqs.items(), \n",
    "        key=lambda item: item[1], \n",
    "        reverse=True\n",
    "    )\n",
    ")\n",
    "freqs"
   ]
  },
  {
   "cell_type": "code",
   "execution_count": null,
   "id": "acknowledged-brooks",
   "metadata": {},
   "outputs": [],
   "source": [
    "import matplotlib.pyplot as plt"
   ]
  },
  {
   "cell_type": "code",
   "execution_count": null,
   "id": "specified-remark",
   "metadata": {
    "tags": []
   },
   "outputs": [],
   "source": [
    "freqs_bar = {k: v for k, v in freqs.items() if v >= 10}\n",
    "freqs_bar"
   ]
  },
  {
   "cell_type": "code",
   "execution_count": null,
   "id": "undefined-majority",
   "metadata": {},
   "outputs": [],
   "source": [
    "plt.figure(figsize=(16, 6))\n",
    "plt.bar(*zip(*freqs_bar.items()))\n",
    "plt.xticks(rotation='vertical')\n",
    "plt.show()"
   ]
  },
  {
   "cell_type": "markdown",
   "id": "8aec3628-29a5-4d80-b965-fa5841833cb0",
   "metadata": {},
   "source": [
    "We can see that the first words are like 'junk' or 'stop' words and are useless for the analysys, let's exclude them:"
   ]
  },
  {
   "cell_type": "code",
   "execution_count": null,
   "id": "5a0c9e57-b386-47c0-8e79-66b689283f6d",
   "metadata": {
    "tags": []
   },
   "outputs": [],
   "source": [
    "freqs_bar = {k: v for k, v in freqs_bar.items() if v <= 60}\n",
    "freqs_bar"
   ]
  },
  {
   "cell_type": "code",
   "execution_count": null,
   "id": "8371f9b0-df38-4e36-bf75-346e2b98d3d5",
   "metadata": {},
   "outputs": [],
   "source": [
    "plt.figure(figsize=(16, 6))\n",
    "plt.bar(*zip(*freqs_bar.items()))\n",
    "plt.xticks(rotation='vertical')\n",
    "plt.show()"
   ]
  },
  {
   "cell_type": "markdown",
   "id": "victorian-integration",
   "metadata": {},
   "source": [
    "## <font color='red'>INTERMEDIATE QUIZ #3-1</font>\n",
    "Find the any site you like and do the following:\n",
    "1. Collect HTML page of any site you like\n",
    "2. Take the text from that page and process it\n",
    "3. Draw a word frequency plot and make a conclusion about the theme of the site (e.g. news, education, IT etc.)\n",
    "4. Find a few major drawbacks of that simple analysis based on word-count approach"
   ]
  },
  {
   "cell_type": "code",
   "execution_count": null,
   "id": "df68d1d1-0f07-4eea-85b9-6ac0f3348120",
   "metadata": {},
   "outputs": [],
   "source": [
    "### YOUR CODE HERE ###"
   ]
  },
  {
   "cell_type": "markdown",
   "id": "comparative-bargain",
   "metadata": {
    "tags": []
   },
   "source": [
    "### 4. Save HTML to disk as row data"
   ]
  },
  {
   "cell_type": "markdown",
   "id": "9c3001cb-0a91-4009-ab9f-482053dd3169",
   "metadata": {},
   "source": [
    "#### 4.1. How to save files in Python"
   ]
  },
  {
   "cell_type": "code",
   "execution_count": null,
   "id": "ebfb9742-1e8f-4d2c-9fb8-b75839c0c0e1",
   "metadata": {},
   "outputs": [],
   "source": [
    "file = open('test_save_file_0.txt', 'w')\n",
    "file.write('I am text and you write me into the file.')\n",
    "\n",
    "# do not forget to close the file\n",
    "file.close()"
   ]
  },
  {
   "cell_type": "markdown",
   "id": "6d8a9cad-a028-44d0-8ac6-d6811fc1df24",
   "metadata": {
    "tags": []
   },
   "source": [
    "The [with](https://docs.python.org/3/reference/compound_stmts.html#with) statement will help us again. "
   ]
  },
  {
   "cell_type": "code",
   "execution_count": null,
   "id": "fcbce32b-34e6-422d-922b-c34df8119706",
   "metadata": {},
   "outputs": [],
   "source": [
    "with open('test_save_file_1.txt', 'w') as file:\n",
    "    file.write('I am another text but you write me into the file also.')"
   ]
  },
  {
   "cell_type": "code",
   "execution_count": null,
   "id": "83dc941c-6d32-47f5-adb5-292afaa96375",
   "metadata": {},
   "outputs": [],
   "source": [
    "# not only overwrite but also append\n",
    "with open('test_save_file_1.txt', 'a') as file:\n",
    "    file.write('I will be appended and this is the way.')"
   ]
  },
  {
   "cell_type": "code",
   "execution_count": null,
   "id": "24f7dc07-8528-4ccc-a185-5ba36c7cf1b0",
   "metadata": {},
   "outputs": [],
   "source": [
    "# append with the new string\n",
    "with open('test_save_file_1.txt', 'a') as file:\n",
    "    file.write('\\nI will be appended with the new string and this is the way too.')"
   ]
  },
  {
   "cell_type": "markdown",
   "id": "b49cba48-2af9-4d77-8148-2d593a5957d4",
   "metadata": {},
   "source": [
    "#### 4.2. Saving MiBA page"
   ]
  },
  {
   "cell_type": "code",
   "execution_count": null,
   "id": "aware-license",
   "metadata": {},
   "outputs": [],
   "source": [
    "with open('miba_page.html', 'w') as file:\n",
    "    file.write(html.decode())"
   ]
  },
  {
   "cell_type": "code",
   "execution_count": null,
   "id": "latter-composition",
   "metadata": {},
   "outputs": [],
   "source": [
    "# read the data back\n",
    "with open('miba_page.html', 'r') as file:\n",
    "    text = file.read()"
   ]
  },
  {
   "cell_type": "code",
   "execution_count": null,
   "id": "systematic-strengthening",
   "metadata": {
    "tags": []
   },
   "outputs": [],
   "source": [
    "text"
   ]
  },
  {
   "cell_type": "markdown",
   "id": "selective-investor",
   "metadata": {},
   "source": [
    "### 5. More than text"
   ]
  },
  {
   "cell_type": "code",
   "execution_count": null,
   "id": "acquired-granny",
   "metadata": {
    "tags": []
   },
   "outputs": [],
   "source": [
    "soup"
   ]
  },
  {
   "cell_type": "code",
   "execution_count": null,
   "id": "equivalent-confirmation",
   "metadata": {
    "tags": []
   },
   "outputs": [],
   "source": [
    "soup.find_all('img')"
   ]
  },
  {
   "cell_type": "code",
   "execution_count": null,
   "id": "working-satisfaction",
   "metadata": {
    "tags": []
   },
   "outputs": [],
   "source": [
    "soup.find_all('img')[19]"
   ]
  },
  {
   "cell_type": "markdown",
   "id": "3154d86c-50d1-4832-a90c-f115631412b1",
   "metadata": {},
   "source": [
    "We can search through the soup:"
   ]
  },
  {
   "cell_type": "code",
   "execution_count": null,
   "id": "friendly-evolution",
   "metadata": {},
   "outputs": [],
   "source": [
    "soup.find_all('img', attrs={'alt': 'Vladimir Andreevich Gorovoy'})"
   ]
  },
  {
   "cell_type": "code",
   "execution_count": null,
   "id": "sexual-netherlands",
   "metadata": {},
   "outputs": [],
   "source": [
    "soup.find_all('img', attrs={'alt': re.compile(r\".*Gorovoy\")})"
   ]
  },
  {
   "cell_type": "code",
   "execution_count": null,
   "id": "c59ba218-2705-4e75-9198-727cbb0becc2",
   "metadata": {},
   "outputs": [],
   "source": [
    "all_found = soup.find_all('img', attrs={'alt': re.compile(r\".*Gorovoy\")})\n",
    "all_found"
   ]
  },
  {
   "cell_type": "code",
   "execution_count": null,
   "id": "7860eac7-2b05-49c3-baab-9da45606b42a",
   "metadata": {},
   "outputs": [],
   "source": [
    "all_found[0]"
   ]
  },
  {
   "cell_type": "code",
   "execution_count": null,
   "id": "bb51f215-0f74-44f8-ac0c-be6fab402fe4",
   "metadata": {},
   "outputs": [],
   "source": [
    "all_found[0]['alt']"
   ]
  },
  {
   "cell_type": "code",
   "execution_count": null,
   "id": "b86b7333-3e9d-41fa-91f6-6387f87921a8",
   "metadata": {},
   "outputs": [],
   "source": [
    "all_found[0]['class']"
   ]
  },
  {
   "cell_type": "code",
   "execution_count": null,
   "id": "63b891b9-7411-4533-89c5-8ba34b193c9b",
   "metadata": {},
   "outputs": [],
   "source": [
    "all_found[0]['src']"
   ]
  },
  {
   "cell_type": "code",
   "execution_count": null,
   "id": "reasonable-invention",
   "metadata": {},
   "outputs": [],
   "source": [
    "URL_2_SCRAP = 'https://gsom.spbu.ru' + all_found[0]['src']\n",
    "print(URL_2_SCRAP)"
   ]
  },
  {
   "cell_type": "code",
   "execution_count": null,
   "id": "unable-delay",
   "metadata": {},
   "outputs": [],
   "source": [
    "request = Request(URL_2_SCRAP)\n",
    "response = urlopen(request)\n",
    "img = response"
   ]
  },
  {
   "cell_type": "code",
   "execution_count": null,
   "id": "developing-covering",
   "metadata": {},
   "outputs": [],
   "source": [
    "img"
   ]
  },
  {
   "cell_type": "markdown",
   "id": "1ad88fcd-dad2-403f-a393-6b154e921eab",
   "metadata": {},
   "source": [
    "About [PIL library](https://pillow.readthedocs.io/en/stable/index.html) for Python."
   ]
  },
  {
   "cell_type": "code",
   "execution_count": null,
   "id": "tough-ownership",
   "metadata": {},
   "outputs": [],
   "source": [
    "from PIL import Image\n",
    "import numpy as np"
   ]
  },
  {
   "cell_type": "code",
   "execution_count": null,
   "id": "fuzzy-columbia",
   "metadata": {},
   "outputs": [],
   "source": [
    "plt.figure(figsize=(12, 8))\n",
    "img = Image.open(img)\n",
    "plt.imshow(np.array(img))\n",
    "plt.show()"
   ]
  },
  {
   "cell_type": "code",
   "execution_count": null,
   "id": "abandoned-twenty",
   "metadata": {},
   "outputs": [],
   "source": [
    "img.save('Vladimir.jpg')"
   ]
  },
  {
   "cell_type": "code",
   "execution_count": null,
   "id": "solid-liquid",
   "metadata": {},
   "outputs": [],
   "source": []
  }
 ],
 "metadata": {
  "kernelspec": {
   "display_name": "Python 3 (ipykernel)",
   "language": "python",
   "name": "python3"
  },
  "language_info": {
   "codemirror_mode": {
    "name": "ipython",
    "version": 3
   },
   "file_extension": ".py",
   "mimetype": "text/x-python",
   "name": "python",
   "nbconvert_exporter": "python",
   "pygments_lexer": "ipython3",
   "version": "3.10.8"
  },
  "widgets": {
   "application/vnd.jupyter.widget-state+json": {
    "state": {},
    "version_major": 2,
    "version_minor": 0
   }
  }
 },
 "nbformat": 4,
 "nbformat_minor": 5
}
