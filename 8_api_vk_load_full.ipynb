{
 "cells": [
  {
   "cell_type": "markdown",
   "metadata": {},
   "source": [
    "# Mastering Applied Skills in Management, Analytics and Entrepreneurship I"
   ]
  },
  {
   "cell_type": "markdown",
   "metadata": {},
   "source": [
    "## DATA COLLECTION TECHNIQUES\n",
    "## Part VIII. Get data from API"
   ]
  },
  {
   "cell_type": "markdown",
   "metadata": {},
   "source": [
    "### 1. Libraries and credentials"
   ]
  },
  {
   "cell_type": "code",
   "execution_count": null,
   "metadata": {},
   "outputs": [],
   "source": [
    "import os\n",
    "import json\n",
    "import requests"
   ]
  },
  {
   "cell_type": "code",
   "execution_count": null,
   "metadata": {},
   "outputs": [],
   "source": [
    "def access_data(file_path):\n",
    "    with open(file_path) as file:\n",
    "        access_data = json.load(file)\n",
    "    return access_data\n",
    "\n",
    "creds = access_data(file_path='data/access_vkapi.json')\n",
    "print(creds.keys())"
   ]
  },
  {
   "cell_type": "code",
   "execution_count": null,
   "metadata": {},
   "outputs": [],
   "source": [
    "VER = '5.126'\n",
    "TOKEN = creds['token']\n",
    "\n",
    "# Let's start from two GSOM groups in VK\n",
    "URL_SPBU = 'https://vk.com/gsom.spbu'\n",
    "URL_ABTR = 'https://vk.com/gsom_abiturient'\n",
    "GROUP_SPBU = 'gsom.spbu'\n",
    "GROUP_ABTR = 'gsom_abiturient'"
   ]
  },
  {
   "cell_type": "markdown",
   "metadata": {},
   "source": [
    "### 2. VK API first steps"
   ]
  },
  {
   "cell_type": "markdown",
   "metadata": {},
   "source": [
    "Complete manual for VK API is [here](https://dev.vk.com/api/getting-started)."
   ]
  },
  {
   "cell_type": "markdown",
   "metadata": {},
   "source": [
    "#### 2.1. Groups' descriptions"
   ]
  },
  {
   "cell_type": "code",
   "execution_count": null,
   "metadata": {},
   "outputs": [],
   "source": [
    "groups = GROUP_SPBU +',' + GROUP_ABTR\n",
    "method = 'groups.getById'\n",
    "fields = 'city,country,place,description,members_count'\n",
    "# all fields are here: https://vk.com/dev/objects/group"
   ]
  },
  {
   "cell_type": "code",
   "execution_count": null,
   "metadata": {},
   "outputs": [],
   "source": [
    "url = ''.join([\n",
    "    f'https://api.vk.com/method/{method}?',\n",
    "    f'group_ids={groups}',\n",
    "    f'&fields={fields}',\n",
    "    f'&access_token={TOKEN}',\n",
    "    f'&v={VER}'\n",
    "])\n",
    "print(url)"
   ]
  },
  {
   "cell_type": "code",
   "execution_count": null,
   "metadata": {},
   "outputs": [],
   "source": [
    "r = requests.get(url)"
   ]
  },
  {
   "cell_type": "code",
   "execution_count": null,
   "metadata": {},
   "outputs": [],
   "source": [
    "type(r)"
   ]
  },
  {
   "cell_type": "code",
   "execution_count": null,
   "metadata": {},
   "outputs": [],
   "source": [
    "r.text"
   ]
  },
  {
   "cell_type": "code",
   "execution_count": null,
   "metadata": {},
   "outputs": [],
   "source": [
    "r.json()"
   ]
  },
  {
   "cell_type": "code",
   "execution_count": null,
   "metadata": {},
   "outputs": [],
   "source": [
    "data = r.json()\n",
    "type(data)"
   ]
  },
  {
   "cell_type": "code",
   "execution_count": null,
   "metadata": {},
   "outputs": [],
   "source": [
    "data.keys()"
   ]
  },
  {
   "cell_type": "code",
   "execution_count": null,
   "metadata": {},
   "outputs": [],
   "source": [
    "type(data['response'])"
   ]
  },
  {
   "cell_type": "code",
   "execution_count": null,
   "metadata": {},
   "outputs": [],
   "source": [
    "len(data['response'])"
   ]
  },
  {
   "cell_type": "code",
   "execution_count": null,
   "metadata": {},
   "outputs": [],
   "source": [
    "data['response'][0].keys()"
   ]
  },
  {
   "cell_type": "code",
   "execution_count": null,
   "metadata": {},
   "outputs": [],
   "source": [
    "data['response'][1].keys()"
   ]
  },
  {
   "cell_type": "code",
   "execution_count": null,
   "metadata": {},
   "outputs": [],
   "source": [
    "for item in data['response']:\n",
    "    print('=' * 70)\n",
    "    for k, v in item.items():\n",
    "        print('-' * 70)\n",
    "        print('key:', k)\n",
    "        print('value:', v)"
   ]
  },
  {
   "cell_type": "markdown",
   "metadata": {},
   "source": [
    "## <font color='red'>INTERMEDIATE QUIZ #8-1</font>\n",
    "We are going to collect data from `gsom_ma` VK group and we will need to get `id` of that group for further data collection, so:\n",
    "1. Get the data for `gsom_ma` group\n",
    "2. Extract `id` for this group from the data"
   ]
  },
  {
   "cell_type": "code",
   "execution_count": null,
   "metadata": {},
   "outputs": [],
   "source": [
    "groups = 'gsom_ma'\n",
    "method = 'groups.getById'\n",
    "fields = 'city,country,place,description,members_count'"
   ]
  },
  {
   "cell_type": "code",
   "execution_count": null,
   "metadata": {},
   "outputs": [],
   "source": [
    "url = ''.join([\n",
    "    f'https://api.vk.com/method/{method}?',\n",
    "    f'group_ids={groups}',\n",
    "    f'&fields={fields}',\n",
    "    f'&access_token={TOKEN}',\n",
    "    f'&v={VER}'\n",
    "])"
   ]
  },
  {
   "cell_type": "code",
   "execution_count": null,
   "metadata": {},
   "outputs": [],
   "source": [
    "r = requests.get(url)\n",
    "data = r.json()"
   ]
  },
  {
   "cell_type": "code",
   "execution_count": null,
   "metadata": {},
   "outputs": [],
   "source": [
    "id_gsom_ma = data['response'][0]['id']"
   ]
  },
  {
   "cell_type": "code",
   "execution_count": null,
   "metadata": {},
   "outputs": [],
   "source": [
    "id_gsom_ma"
   ]
  },
  {
   "cell_type": "markdown",
   "metadata": {},
   "source": [
    "#### 2.2. Get data on walls"
   ]
  },
  {
   "cell_type": "markdown",
   "metadata": {},
   "source": [
    "Here we can get all records from the wall of the selected group. The method [wall.get](https://dev.vk.com/method/wall.get) is used for that purpose."
   ]
  },
  {
   "cell_type": "code",
   "execution_count": null,
   "metadata": {},
   "outputs": [],
   "source": [
    "owner_id = id_gsom_ma\n",
    "offset = 0 # to start with\n",
    "count = 5 # how many recoeds to get\n",
    "method = 'wall.get'"
   ]
  },
  {
   "cell_type": "code",
   "execution_count": null,
   "metadata": {},
   "outputs": [],
   "source": [
    "url = ''.join([\n",
    "    f'https://api.vk.com/method/{method}?',\n",
    "    f'owner_id=-{owner_id}',\n",
    "    f'&offset={offset}',\n",
    "    f'&count={count}',\n",
    "    f'&access_token={TOKEN}',\n",
    "    f'&v={VER}'\n",
    "])\n",
    "r = requests.get(url)\n",
    "data = r.json()"
   ]
  },
  {
   "cell_type": "code",
   "execution_count": null,
   "metadata": {},
   "outputs": [],
   "source": [
    "data.keys()"
   ]
  },
  {
   "cell_type": "code",
   "execution_count": null,
   "metadata": {},
   "outputs": [],
   "source": [
    "len(data['response'])"
   ]
  },
  {
   "cell_type": "code",
   "execution_count": null,
   "metadata": {},
   "outputs": [],
   "source": [
    "data['response'].keys()"
   ]
  },
  {
   "cell_type": "code",
   "execution_count": null,
   "metadata": {},
   "outputs": [],
   "source": [
    "# how many records are on the wall\n",
    "data['response']['count']"
   ]
  },
  {
   "cell_type": "code",
   "execution_count": null,
   "metadata": {},
   "outputs": [],
   "source": [
    "# data on records itself\n",
    "len(data['response']['items'])"
   ]
  },
  {
   "cell_type": "code",
   "execution_count": null,
   "metadata": {},
   "outputs": [],
   "source": [
    "data['response']['items'][0]"
   ]
  },
  {
   "cell_type": "code",
   "execution_count": null,
   "metadata": {},
   "outputs": [],
   "source": [
    "# attention - date as integer timestamp\n",
    "data['response']['items'][0]['date']"
   ]
  },
  {
   "cell_type": "code",
   "execution_count": null,
   "metadata": {},
   "outputs": [],
   "source": [
    "import datetime\n",
    "date = datetime.datetime.fromtimestamp(data['response']['items'][0]['date'])\n",
    "date"
   ]
  },
  {
   "cell_type": "code",
   "execution_count": null,
   "metadata": {},
   "outputs": [],
   "source": [
    "for item in data['response']['items']:\n",
    "    print('=' * 70)\n",
    "    print('id:', item['id'], \n",
    "          '| date:', datetime.datetime.fromtimestamp(item['date']), \n",
    "          '\\n', item['text'], '\\n')"
   ]
  },
  {
   "cell_type": "markdown",
   "metadata": {},
   "source": [
    "## <font color='red'>INTERMEDIATE QUIZ #8-2</font>\n",
    "We already know how to get data on posts in the group. Now let's draw a barplot for posts' views that depend on time. So the task is:\n",
    "1. Load from 10 to 20 records (posts) from the group\n",
    "2. Extract data on posts' views (__HINT:__ find `views` and `count` keys), and the timestamps for the posts (HINT: find `date` key)\n",
    "3. Draw a barplot for `views` depending on time"
   ]
  },
  {
   "cell_type": "markdown",
   "metadata": {},
   "source": [
    "### <font color='green'>Solution</font>"
   ]
  },
  {
   "cell_type": "code",
   "execution_count": null,
   "metadata": {},
   "outputs": [],
   "source": [
    "owner_id = id_gsom_ma\n",
    "offset = 0 # to start with\n",
    "count = 30 # how many recoeds to get\n",
    "method = 'wall.get'\n",
    "url = ''.join([\n",
    "    f'https://api.vk.com/method/{method}?',\n",
    "    f'owner_id=-{owner_id}',\n",
    "    f'&offset={offset}',\n",
    "    f'&count={count}',\n",
    "    f'&access_token={TOKEN}',\n",
    "    f'&v={VER}'\n",
    "])\n",
    "r = requests.get(url)\n",
    "data = r.json()"
   ]
  },
  {
   "cell_type": "code",
   "execution_count": null,
   "metadata": {},
   "outputs": [],
   "source": [
    "import datetime\n",
    "\n",
    "dates = []\n",
    "views = []\n",
    "for item in data['response']['items']:\n",
    "    dates.append(datetime.datetime.fromtimestamp(item['date']))\n",
    "    views.append(item['views']['count'])"
   ]
  },
  {
   "cell_type": "code",
   "execution_count": null,
   "metadata": {},
   "outputs": [],
   "source": [
    "# HINT to draw a barplot\n",
    "\n",
    "import matplotlib.pyplot as plt\n",
    "\n",
    "plt.figure(figsize=(16, 4))\n",
    "plt.bar(dates, views)\n",
    "plt.xticks(dates, rotation='vertical')\n",
    "plt.show()"
   ]
  },
  {
   "cell_type": "markdown",
   "metadata": {},
   "source": [
    "### 3. VK API headhunt"
   ]
  },
  {
   "cell_type": "markdown",
   "metadata": {},
   "source": [
    "We can get the data not only on the groups but also on the members of that groups:\n",
    "- method [`getMembers`](https://dev.vk.com/method/groups.getMembers) to get list of members\n",
    "- method [`users/get`](https://dev.vk.com/method/users.get) to get the data on specified users"
   ]
  },
  {
   "cell_type": "markdown",
   "metadata": {},
   "source": [
    "#### 3.1. Get all members of the group"
   ]
  },
  {
   "cell_type": "code",
   "execution_count": null,
   "metadata": {},
   "outputs": [],
   "source": [
    "group_name = 'gsom_ma'\n",
    "offset = 0 # to start from\n",
    "count = 100 # number of members to get their ids\n",
    "method = 'groups.getMembers'"
   ]
  },
  {
   "cell_type": "code",
   "execution_count": null,
   "metadata": {},
   "outputs": [],
   "source": [
    "url = ''.join([\n",
    "    f'https://api.vk.com/method/{method}?',\n",
    "    f'group_id={group_name}',\n",
    "    f'&offset={offset}',\n",
    "    f'&count={count}',\n",
    "    f'&access_token={TOKEN}',\n",
    "    f'&v={VER}'\n",
    "])\n",
    "print(url)"
   ]
  },
  {
   "cell_type": "code",
   "execution_count": null,
   "metadata": {},
   "outputs": [],
   "source": [
    "r = requests.get(url)\n",
    "data = r.json()\n",
    "print(\n",
    "    'group:', group_name,\n",
    "    '| total members:', data['response']['count'], \n",
    "    '| loaded:', len(data['response']['items'])\n",
    ")"
   ]
  },
  {
   "cell_type": "code",
   "execution_count": null,
   "metadata": {
    "tags": []
   },
   "outputs": [],
   "source": [
    "data['response']"
   ]
  },
  {
   "cell_type": "code",
   "execution_count": null,
   "metadata": {},
   "outputs": [],
   "source": [
    "list_of_members = data['response']['items']\n",
    "print(len(list_of_members))"
   ]
  },
  {
   "cell_type": "code",
   "execution_count": null,
   "metadata": {},
   "outputs": [],
   "source": [
    "list_of_members[:10]"
   ]
  },
  {
   "cell_type": "markdown",
   "metadata": {},
   "source": [
    "#### 3.2. Get data on the one member"
   ]
  },
  {
   "cell_type": "code",
   "execution_count": null,
   "metadata": {},
   "outputs": [],
   "source": [
    "group_name = 'gsom.spbu'\n",
    "method = 'users.get'\n",
    "user = '1212'"
   ]
  },
  {
   "cell_type": "code",
   "execution_count": null,
   "metadata": {},
   "outputs": [],
   "source": [
    "# all fields https://vk.com/dev/objects/user\n",
    "fields = 'sex,bdate,city,country,home_town,education,universities,schools,status,last_seen,occupation'"
   ]
  },
  {
   "cell_type": "code",
   "execution_count": null,
   "metadata": {},
   "outputs": [],
   "source": [
    "url = ''.join([\n",
    "    f'https://api.vk.com/method/{method}?',\n",
    "    f'user_ids={user}',\n",
    "    f'&fields={fields}',\n",
    "    f'&access_token={TOKEN}',\n",
    "    f'&v={VER}'\n",
    "])\n",
    "print(url)"
   ]
  },
  {
   "cell_type": "code",
   "execution_count": null,
   "metadata": {},
   "outputs": [],
   "source": [
    "r = requests.get(url)\n",
    "data = r.json()"
   ]
  },
  {
   "cell_type": "code",
   "execution_count": null,
   "metadata": {},
   "outputs": [],
   "source": [
    "data"
   ]
  },
  {
   "cell_type": "markdown",
   "metadata": {},
   "source": [
    "#### 3.3. Get data on the wall"
   ]
  },
  {
   "cell_type": "markdown",
   "metadata": {},
   "source": [
    "The same method as for the groups!"
   ]
  },
  {
   "cell_type": "code",
   "execution_count": null,
   "metadata": {},
   "outputs": [],
   "source": [
    "owner_id = '1212'\n",
    "offset = 0\n",
    "count = 20\n",
    "method = 'wall.get'"
   ]
  },
  {
   "cell_type": "code",
   "execution_count": null,
   "metadata": {},
   "outputs": [],
   "source": [
    "url = ''.join([\n",
    "    f'https://api.vk.com/method/{method}?',\n",
    "    f'owner_id=-{owner_id}',\n",
    "    f'&offset={offset}',\n",
    "    f'&count={count}',\n",
    "    f'&access_token={TOKEN}',\n",
    "    f'&v={VER}'\n",
    "])\n",
    "r = requests.get(url)\n",
    "data = r.json()"
   ]
  },
  {
   "cell_type": "code",
   "execution_count": null,
   "metadata": {},
   "outputs": [],
   "source": [
    "data"
   ]
  },
  {
   "cell_type": "code",
   "execution_count": null,
   "metadata": {},
   "outputs": [],
   "source": [
    "folder = 'walls_data'\n",
    "os.makedirs(folder, exist_ok=True)"
   ]
  },
  {
   "cell_type": "code",
   "execution_count": null,
   "metadata": {},
   "outputs": [],
   "source": [
    "import time\n",
    "from tqdm.auto import tqdm\n",
    "\n",
    "offset = 0\n",
    "count = 20\n",
    "method = 'wall.get'\n",
    "\n",
    "for user_id in tqdm(list_of_members):\n",
    "    url = ''.join([\n",
    "        f'https://api.vk.com/method/{method}?',\n",
    "        f'owner_id=-{user_id}',\n",
    "        f'&offset={offset}',\n",
    "        f'&count={count}',\n",
    "        f'&access_token={TOKEN}',\n",
    "        f'&v={VER}'\n",
    "    ])\n",
    "    r = requests.get(url)\n",
    "    data = r.json()\n",
    "    if 'response' in data.keys():\n",
    "        file_path = f'{folder}/{user_id}.json'\n",
    "        with open(file_path, 'w') as file:\n",
    "            json.dump(data, file)\n",
    "    else:\n",
    "        print(data.keys(), data['error']['error_msg'])\n",
    "    time.sleep(1)"
   ]
  },
  {
   "cell_type": "markdown",
   "metadata": {},
   "source": [
    "#### 3.3. Process data on the wall"
   ]
  },
  {
   "cell_type": "code",
   "execution_count": null,
   "metadata": {},
   "outputs": [],
   "source": [
    "file_list = os.listdir(folder)"
   ]
  },
  {
   "cell_type": "code",
   "execution_count": null,
   "metadata": {},
   "outputs": [],
   "source": [
    "import pandas as pd\n",
    "\n",
    "dfs = [] # an empty list to store the data frames\n",
    "for file_name in file_list:\n",
    "    data = pd.read_json(\n",
    "        f'{folder}/{file_name}', \n",
    "        lines=True\n",
    "    ) # read data frame from json file\n",
    "    dfs.append(data) # append the data frame to the list\n",
    "df = pd.concat(dfs, ignore_index=True) # concatenate all the data frames in the list.\n",
    "df.head()"
   ]
  },
  {
   "cell_type": "code",
   "execution_count": null,
   "metadata": {
    "scrolled": true
   },
   "outputs": [],
   "source": [
    "all_data = []\n",
    "for file_name in file_list:\n",
    "    with open(f'{folder}/{file_name}') as file:\n",
    "        data = json.load(file)\n",
    "    all_data.extend(data['response']['items'])\n",
    "df = pd.DataFrame(all_data)\n",
    "df.head()"
   ]
  },
  {
   "cell_type": "code",
   "execution_count": null,
   "metadata": {},
   "outputs": [],
   "source": [
    "pd.set_option('display.max_columns', None)\n",
    "\n",
    "all_data = []\n",
    "for file_name in file_list:\n",
    "    with open(f'{folder}/{file_name}') as file:\n",
    "        data = json.load(file)\n",
    "    all_data.append(pd.json_normalize(data['response']['items']))\n",
    "df = pd.concat(all_data, ignore_index=True) # concatenate all the data frames in the list.\n",
    "df.head()"
   ]
  },
  {
   "cell_type": "code",
   "execution_count": null,
   "metadata": {},
   "outputs": [],
   "source": [
    "df['owner_id'] = df['owner_id'].astype(str)"
   ]
  },
  {
   "cell_type": "code",
   "execution_count": null,
   "metadata": {},
   "outputs": [],
   "source": [
    "df.groupby(by='owner_id')['likes.count'].sum()"
   ]
  },
  {
   "cell_type": "code",
   "execution_count": null,
   "metadata": {},
   "outputs": [],
   "source": [
    "plt.figure(figsize=(16, 4))\n",
    "df.groupby(by='owner_id')['likes.count'].sum().plot(kind='bar')\n",
    "plt.xticks(rotation='vertical')\n",
    "plt.show()"
   ]
  },
  {
   "cell_type": "markdown",
   "metadata": {},
   "source": [
    "## <font color='red'>LAB WORK #5</font>"
   ]
  },
  {
   "cell_type": "markdown",
   "metadata": {},
   "source": [
    "We have already seen how to get data jn one member of the group with metod `users.get`, but this method can take many members' ids at once. For the home assignmebt you have to:\n",
    "1. Use `users.get` method for several members' ids \n",
    "2. Collect data on many users (at least 100 members)\n",
    "3. Find the data about university(ies) for the each member\n",
    "4. Draw a stat in a form of histogram to find frequency of universities in the collected dataset"
   ]
  },
  {
   "cell_type": "markdown",
   "metadata": {},
   "source": [
    "### Hints for lab work"
   ]
  },
  {
   "cell_type": "code",
   "execution_count": null,
   "metadata": {},
   "outputs": [],
   "source": [
    "# you may pass members' ids to `users` parameter of the query like a string with comma separated\n",
    "users = '11738,1212' \n",
    "url = ''.join([\n",
    "    f'https://api.vk.com/method/{method}?',\n",
    "    f'user_ids={users}',\n",
    "    f'&fields={fields}',\n",
    "    f'&access_token={TOKEN}',\n",
    "    f'&v={VER}'\n",
    "])\n",
    "print(url)"
   ]
  },
  {
   "cell_type": "markdown",
   "metadata": {},
   "source": [
    "### <font color='green'>Solution</font>"
   ]
  },
  {
   "cell_type": "code",
   "execution_count": null,
   "metadata": {},
   "outputs": [],
   "source": [
    "group_name = 'gsom.spbu'\n",
    "method = 'users.get'\n",
    "users = ','.join([str(x) for x in list_of_members])\n",
    "fields = 'sex,bdate,city,country,home_town,education,universities,schools,status,last_seen,occupation'\n",
    "# all fields https://vk.com/dev/objects/user\n",
    "url = ''.join([\n",
    "    f'https://api.vk.com/method/{method}?',\n",
    "    f'user_ids={users}',\n",
    "    f'&fields={fields}',\n",
    "    f'&access_token={TOKEN}',\n",
    "    f'&v={VER}'\n",
    "])\n",
    "r = requests.get(url)\n",
    "data = r.json()"
   ]
  },
  {
   "cell_type": "code",
   "execution_count": null,
   "metadata": {
    "tags": []
   },
   "outputs": [],
   "source": [
    "for item in data['response']:\n",
    "    print('-' * 70)\n",
    "    print(\n",
    "        'id:', item['id'],\n",
    "        '\\nfirst name:', item['first_name'], \n",
    "        '\\nlast name:', item['last_name']\n",
    "    )\n",
    "    try:\n",
    "        print(\n",
    "            '\\nbirth date:', item['bdate'], \n",
    "            '\\nhome town:', item['home_town'], \n",
    "            '\\nstatus:', item['status']\n",
    "        )\n",
    "    except:\n",
    "        print('no more data')"
   ]
  },
  {
   "cell_type": "code",
   "execution_count": null,
   "metadata": {},
   "outputs": [],
   "source": [
    "univers = [x['universities'] for x in data['response'] if 'universities' in x.keys()]\n",
    "univers = [item for sublist in univers for item in sublist]\n",
    "univers = [x['name'] for x in univers]\n",
    "univers"
   ]
  },
  {
   "cell_type": "code",
   "execution_count": null,
   "metadata": {},
   "outputs": [],
   "source": [
    "plt.figure(figsize=(16, 4))\n",
    "plt.hist(univers, bins=40)\n",
    "plt.xticks(rotation='vertical')\n",
    "plt.show()"
   ]
  },
  {
   "cell_type": "code",
   "execution_count": null,
   "metadata": {},
   "outputs": [],
   "source": []
  }
 ],
 "metadata": {
  "kernelspec": {
   "display_name": "Python 3 (ipykernel)",
   "language": "python",
   "name": "python3"
  },
  "language_info": {
   "codemirror_mode": {
    "name": "ipython",
    "version": 3
   },
   "file_extension": ".py",
   "mimetype": "text/x-python",
   "name": "python",
   "nbconvert_exporter": "python",
   "pygments_lexer": "ipython3",
   "version": "3.10.8"
  },
  "widgets": {
   "application/vnd.jupyter.widget-state+json": {
    "state": {},
    "version_major": 2,
    "version_minor": 0
   }
  }
 },
 "nbformat": 4,
 "nbformat_minor": 4
}
